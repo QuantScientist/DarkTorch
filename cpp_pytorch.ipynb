{
 "cells": [
  {
   "cell_type": "markdown",
   "metadata": {},
   "source": [
    "# Libtorch on jupyter using Cling C++\n",
    "\n"
   ]
  },
  {
   "cell_type": "code",
   "execution_count": 1,
   "metadata": {},
   "outputs": [],
   "source": [
    "#pragma once\n",
    "#include <iostream>\n",
    "#include <stdlib.h>\n",
    "#include <algorithm>\n",
    "\n",
    "#pragma cling load(\"/root/libtorch/lib/libtorch.so\")\n",
    "#pragma cling load(\"/root/libtorch/lib/libc10_cuda.so\")\n",
    "#pragma cling load(\"/root/libtorch/lib/libcaffe2_nvrtc.so\")\n",
    "#pragma cling load(\"/root/libtorch/lib/libnvrtc-builtins.so\")\n",
    "\n",
    "\n",
    "#pragma cling add_include_path(\"/root/libtorch/include/\")\n",
    "#pragma cling add_include_path(\"/root/opencv/include/\")\n",
    "\n",
    "#pragma cling add_include_path(\"/root/opencv/build/\")\n",
    "#pragma cling add_include_path(\"/root/opencv/modules/\")\n",
    "#pragma cling add_include_path(\"/root/opencv/modules/core/\")\n",
    "#pragma cling add_include_path(\"/root/opencv/modules/core/include/\")\n",
    "#pragma cling add_include_path(\"/root/opencv/modules/videoio/include/\")\n",
    "#pragma cling add_include_path(\"/root/opencv/modules/highgui/include/\")\n",
    "#pragma cling add_include_path(\"/root/opencv/modules/imgproc/include/\")\n",
    "#pragma cling add_include_path(\"/root/opencv/modules/imgcodecs/include/\")\n",
    "\n",
    "#pragma cling load(\"libopencv_core\")\n",
    "#pragma cling load(\"libopencv_imgcodecs\")\n",
    "#pragma cling load(\"libopencv_imgproc\")\n",
    "\n",
    "\n",
    "#pragma cling add_library_path(\"/root/libtorch/lib/\")\n",
    "#pragma cling add_library_path(\"/root/opencv/build/lib/\")\n",
    "// #pragma cling add_library_path(\"/opt/conda/lib/python3.6/site-packages/torch/lib/\")\n",
    "\n",
    "\n",
    "// #pragma cling load(\"/opt/conda/lib/python3.6/site-packages/torch/lib/libcaffe2.so\")\n",
    "// #pragma cling load(\"/opt/conda/lib/python3.6/site-packages/torch/lib/libcaffe2_gpu.so\")\n",
    "// #pragma cling load(\"/opt/conda/lib/python3.6/site-packages/torch/lib/libcaffe2_nvrtc.so\")\n",
    "\n",
    "\n",
    "// #pragma cling load(\"/opt/conda/lib/python3.6/site-packages/torch/lib/libcaffe2_detectron_ops_gpu.so\")\n"
   ]
  },
  {
   "cell_type": "code",
   "execution_count": 2,
   "metadata": {},
   "outputs": [
    {
     "name": "stdout",
     "output_type": "stream",
     "text": [
      "-rwxr-xr-x 1 root root     363328 Aug 22 22:56 /root/libtorch/lib/libc10.so\n",
      "-rwxr-xr-x 1 root root     222752 Aug 22 22:56 /root/libtorch/lib/libc10_cuda.so\n",
      "-rwxr-xr-x 1 root root      35136 Aug 22 22:56 /root/libtorch/lib/libc10d_cuda_test.so\n",
      "-rwxr-xr-x 1 root root    2113824 Aug 22 22:56 /root/libtorch/lib/libcaffe2_detectron_ops_gpu.so\n",
      "-rwxr-xr-x 1 root root     138640 Aug 22 22:56 /root/libtorch/lib/libcaffe2_module_test_dynamic.so\n",
      "-rwxr-xr-x 1 root root      17200 Aug 22 22:56 /root/libtorch/lib/libcaffe2_nvrtc.so\n",
      "-rwxr-xr-x 1 root root    4617184 Aug 22 22:56 /root/libtorch/lib/libnvrtc-builtins.so\n",
      "-rwxr-xr-x 1 root root 1310927784 Aug 22 22:56 /root/libtorch/lib/libtorch.so\n"
     ]
    }
   ],
   "source": [
    "! ls -la /root/libtorch/lib/*.so"
   ]
  },
  {
   "cell_type": "code",
   "execution_count": 3,
   "metadata": {},
   "outputs": [],
   "source": [
    "//#include <torch/torch.h>\n",
    "#include <torch/script.h> // One-stop header.\n",
    "\n",
    "#include <iostream>\n",
    "#include <vector>\n",
    "#include <memory>\n",
    "#include <cmath>\n",
    "\n",
    "#include <iostream>\n",
    "#include <chrono>\n",
    "\n",
    "#include <opencv2/core/core.hpp>\n",
    "#include <opencv2/videoio.hpp>\n",
    "#include <opencv2/highgui/highgui.hpp>\n",
    "#include <opencv2/imgproc/imgproc.hpp>\n",
    "#include <opencv2/imgproc/types_c.h>\n",
    "#include <iostream>\n",
    "#include <time.h>\n",
    "#include <ostream>\n",
    "#include <ATen/ATen.h>\n",
    "\n",
    "\n",
    "using namespace std;\n",
    "//using namespace cv;\n",
    "using namespace std::chrono;\n",
    "\n",
    "//https://www.oipapio.com/cn/article-4629416\n",
    "\n",
    "#define kIMAGE_SIZE 512\n",
    "#define kCHANNELS 3\n",
    "#define kTOP_K 3"
   ]
  },
  {
   "cell_type": "code",
   "execution_count": 4,
   "metadata": {},
   "outputs": [
    {
     "name": "stdout",
     "output_type": "stream",
     "text": [
      "\u001b[00m\n",
      "\u001b[32mOpenCV version : 3.4.2\n",
      "Major version : 3\n",
      "Minor version : 4\n",
      "Subminor version : 2\n",
      "\u001b[00m\n"
     ]
    },
    {
     "data": {
      "text/plain": [
       "@0x7f26fedfbb60"
      ]
     },
     "execution_count": 4,
     "metadata": {},
     "output_type": "execute_result"
    }
   ],
   "source": [
    "#include \"include/termcolor/termcolor.hpp\"\n",
    "#include \"include/tqdm/tqdm.h\"\n",
    "\n",
    "\n",
    "std::cout << termcolor::reset << std::endl;\n",
    "cout << termcolor::green<<  \"OpenCV version : \" << CV_VERSION << endl;\n",
    "cout << \"Major version : \" << CV_MAJOR_VERSION << endl;\n",
    "cout << \"Minor version : \" << CV_MINOR_VERSION << endl;\n",
    "cout << \"Subminor version : \" << CV_SUBMINOR_VERSION << endl;\n",
    "std::cout << termcolor::reset << std::endl;\n",
    "\n"
   ]
  },
  {
   "cell_type": "code",
   "execution_count": 5,
   "metadata": {},
   "outputs": [
    {
     "name": "stderr",
     "output_type": "stream",
     "text": [
      "IncrementalExecutor::executeFunction: symbol '__emutls_v._ZSt11__once_call' unresolved while linking [cling interface function]!\n",
      "IncrementalExecutor::executeFunction: symbol '__emutls_v._ZSt15__once_callable' unresolved while linking [cling interface function]!\n"
     ]
    }
   ],
   "source": [
    "[] {\n",
    "    cv::Mat m = cv::imread(\"imgs/RGB_00_000.jpg\");\n",
    "    cv::resize(m, m, cv::Size(200, 140));\n",
    "    const std::string s_model_name = \"pth/res34_model_cpp.pt\";    \n",
    "\n",
    "    const std::string image_path =\"imgs/RGB_00_000.jpg\"; \n",
    "    const std::string device_string = \"cuda:2\";\n",
    "\n",
    "    std::cout << termcolor::bold << \"Loading \" << s_model_name << std::endl;\n",
    "    torch::jit::script::Module module = torch::jit::load(s_model_name, torch::kCUDA);\n",
    "    assert(module != nullptr);\n",
    "    module.to(device_string);    \n",
    "    \n",
    "    auto input_tensor = torch::from_blob(m.data, {1, 224, 224, kCHANNELS});\n",
    "}(); \n",
    "\n",
    "\n",
    "\n",
    "// input_tensor = input_tensor.permute({0, 3, 1, 2});\n",
    "// input_tensor = input_tensor.to(at::kCUDA);\n",
    "// input_tensor = input_tensor.to(device_string);\n",
    "// torch::Tensor out_tensor = module.forward({input_tensor}).toTensor();\n",
    "// const auto dimensions = out_tensor.ndimension();\n",
    "// const auto v_size = out_tensor.size(1); //Should be 512\n",
    "    \n",
    "\n",
    "\n"
   ]
  },
  {
   "cell_type": "code",
   "execution_count": null,
   "metadata": {},
   "outputs": [],
   "source": []
  }
 ],
 "metadata": {
  "kernelspec": {
   "display_name": "C++11",
   "language": "C++11",
   "name": "xcpp11"
  },
  "language_info": {
   "codemirror_mode": "text/x-c++src",
   "file_extension": ".cpp",
   "mimetype": "text/x-c++src",
   "name": "c++",
   "version": "-std=c++11"
  }
 },
 "nbformat": 4,
 "nbformat_minor": 2
}
