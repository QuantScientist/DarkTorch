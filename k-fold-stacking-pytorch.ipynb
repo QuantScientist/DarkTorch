{
 "cells": [
  {
   "cell_type": "code",
   "execution_count": 1,
   "metadata": {
    "_cell_guid": "79c7e3d0-c299-4dcb-8224-4455121ee9b0",
    "_uuid": "d629ff2d2480ee46fbb7e2d37f6b5fab8052498a"
   },
   "outputs": [],
   "source": [
    "!pip install -q efficientnet_pytorch jupytext efficientnet-pytorch catalyst pytorchcv pretrainedmodels fastprogress > /dev/null\n",
    "\n",
    "%reset -f \n",
    "%matplotlib inline\n",
    "%config InlineBackend.figure_format = 'retina'\n",
    "\n",
    "import os\n",
    "import numpy as np\n",
    "import pandas as pd\n",
    "\n",
    "import albumentations as A\n",
    "import cv2\n",
    "\n",
    "import torch\n",
    "import torch.nn as nn\n",
    "import torch.nn.functional as F\n",
    "import torchvision\n",
    "import torch.optim as optim\n",
    "\n",
    "from tqdm.notebook import tqdm\n",
    "from torch.utils.data import Dataset, DataLoader\n",
    "from albumentations.pytorch import ToTensorV2\n",
    "\n",
    "from sklearn.metrics import roc_auc_score\n",
    "from sklearn.model_selection import KFold, StratifiedKFold\n",
    "\n",
    "import plotly.express as px\n",
    "import plotly.graph_objects as go\n",
    "from plotly.subplots import make_subplots\n",
    "\n",
    "import warnings  \n",
    "warnings.filterwarnings('ignore')\n",
    "\n",
    "__print__ = print\n",
    "\n",
    "def print(string):\n",
    "    os.system(f'echo \\\"{string}\\\"')\n",
    "    __print__(string)\n",
    "    \n",
    "from fastprogress.fastprogress import master_bar, progress_bar    "
   ]
  },
  {
   "cell_type": "code",
   "execution_count": 2,
   "metadata": {},
   "outputs": [],
   "source": [
    "DIR_INPUT = './plant-pathology-2020-fgvc7'\n",
    "\n",
    "SEED = 42\n",
    "N_FOLDS = 5\n",
    "N_EPOCHS = 15\n",
    "BATCH_SIZE = 12\n",
    "SIZE = 512"
   ]
  },
  {
   "cell_type": "code",
   "execution_count": 3,
   "metadata": {},
   "outputs": [],
   "source": [
    "class PlantDataset(Dataset):\n",
    "    \n",
    "    def __init__(self, df, transforms=None):\n",
    "    \n",
    "        self.df = df\n",
    "        self.transforms=transforms\n",
    "        \n",
    "    def __len__(self):\n",
    "        return self.df.shape[0]\n",
    "    \n",
    "    def __getitem__(self, idx):\n",
    "        image_src = DIR_INPUT + '/images/' + self.df.loc[idx, 'image_id'] + '.jpg'\n",
    "        # print(image_src)\n",
    "        image = cv2.imread(image_src, cv2.IMREAD_COLOR)\n",
    "        image = cv2.cvtColor(image, cv2.COLOR_BGR2RGB)\n",
    "        labels = self.df.loc[idx, ['healthy', 'multiple_diseases', 'rust', 'scab']].values\n",
    "        labels = torch.from_numpy(labels.astype(np.int8))\n",
    "        labels = labels.unsqueeze(-1)\n",
    "        \n",
    "        if self.transforms:\n",
    "            transformed = self.transforms(image=image)\n",
    "            image = transformed['image']\n",
    "\n",
    "        return image, labels"
   ]
  },
  {
   "cell_type": "code",
   "execution_count": 4,
   "metadata": {},
   "outputs": [],
   "source": [
    "from torch import nn, optim\n",
    "from glob import glob \n",
    "\n",
    "dropout = torch.nn.Dropout(p=0.30)\n",
    "relu=torch.nn.LeakyReLU()\n",
    "pool = nn.MaxPool2d(2, 2)\n",
    "\n",
    "class ConvRes(nn.Module):\n",
    "    def __init__(self, insize, outsize):\n",
    "        super(ConvRes, self).__init__()\n",
    "        drate = .3\n",
    "        self.math = nn.Sequential(\n",
    "            nn.BatchNorm2d(insize),\n",
    "            nn.Dropout(drate),\n",
    "            torch.nn.Conv2d(insize, outsize, kernel_size=2, padding=2),\n",
    "            nn.PReLU(),\n",
    "        )\n",
    "\n",
    "    def forward(self, x):\n",
    "        return self.math(x)\n",
    "\n",
    "\n",
    "class ConvCNN(nn.Module):\n",
    "    def __init__(self, insize, outsize, kernel_size=7, padding=2, pool=2, avg=True):\n",
    "        super(ConvCNN, self).__init__()\n",
    "        self.avg = avg\n",
    "        self.math = torch.nn.Sequential(\n",
    "            torch.nn.Conv2d(insize, outsize, kernel_size=kernel_size, padding=padding),\n",
    "            torch.nn.BatchNorm2d(outsize),\n",
    "            torch.nn.LeakyReLU(),\n",
    "            torch.nn.MaxPool2d(pool, pool),\n",
    "        )\n",
    "        self.avgpool = torch.nn.AvgPool2d(pool, pool)\n",
    "\n",
    "    def forward(self, x):\n",
    "        x = self.math(x)\n",
    "        if self.avg is True:\n",
    "            x = self.avgpool(x)\n",
    "        return x\n",
    "\n",
    "\n",
    "    \n",
    "class SimpleNet(nn.Module):\n",
    "    def __init__(self,num_classes, n_dim):\n",
    "        super(SimpleNet, self).__init__()\n",
    "        self.num_classes=num_classes\n",
    "        self.avgpool = nn.AdaptiveAvgPool2d(1)\n",
    "\n",
    "        self.cnn1 = ConvCNN (n_dim,32,  kernel_size=7, pool=4, avg=False)\n",
    "        self.cnn2 = ConvCNN (32,32, kernel_size=5, pool=2, avg=True)\n",
    "        self.cnn3 = ConvCNN (32,32, kernel_size=5, pool=2, avg=True)\n",
    "\n",
    "        self.res1 = ConvRes (32,64)\n",
    "\n",
    "        self.features = nn.Sequential(\n",
    "            self.cnn1, dropout,\n",
    "            self.cnn2,\n",
    "            self.cnn3,\n",
    "            self.res1,\n",
    "        )\n",
    "\n",
    "        self.classifier = torch.nn.Sequential(\n",
    "            nn.Linear(6400, (num_classes)), # 2305 for 256\n",
    "        )\n",
    "\n",
    "        self.sig=nn.Sigmoid()\n",
    "\n",
    "# torch.Size([16, 3, 256, 256])\n",
    "# torch.Size([16, 2304])\n",
    "\n",
    "    def forward(self, x):\n",
    "#         print (x.data.shape)\n",
    "        x = self.features(x)\n",
    "        x = x.view(x.size(0), -1)\n",
    "#         print (x.data.shape)\n",
    "        x = self.classifier(x)\n",
    "        if (self.num_classes == 1):\n",
    "                x = self.sig(x)\n",
    "        return x\n",
    "\n",
    "    #         return F.log_softmax(x)\n",
    "\n",
    "\n",
    "def simpleXX_generic(n_classes: int = 4,imgDim:int=3):\n",
    "    # depth, num_classes = 1, widen_factor = 1, dropRate = 0.0\n",
    "    model = SimpleNet(num_classes=n_classes, n_dim=imgDim)  # 56    \n",
    "    return model\n",
    "\n",
    "class PlantModel(nn.Module):\n",
    "    \n",
    "    def __init__(self, num_classes=4):\n",
    "        super().__init__()\n",
    "        \n",
    "        self.backbone = torchvision.models.resnet18(pretrained=True)\n",
    "        \n",
    "        in_features = self.backbone.fc.in_features\n",
    "\n",
    "        self.logit = nn.Linear(in_features, num_classes)\n",
    "        \n",
    "    def forward(self, x):\n",
    "        batch_size, C, H, W = x.shape\n",
    "        \n",
    "        x = self.backbone.conv1(x)\n",
    "        x = self.backbone.bn1(x)\n",
    "        x = self.backbone.relu(x)\n",
    "        x = self.backbone.maxpool(x)\n",
    "\n",
    "        x = self.backbone.layer1(x)\n",
    "        x = self.backbone.layer2(x)\n",
    "        x = self.backbone.layer3(x)\n",
    "        x = self.backbone.layer4(x)\n",
    "        \n",
    "        x = F.adaptive_avg_pool2d(x,1).reshape(batch_size,-1)\n",
    "        x = F.dropout(x, 0.25, self.training)\n",
    "\n",
    "        x = self.logit(x)\n",
    "\n",
    "        return x\n"
   ]
  },
  {
   "cell_type": "code",
   "execution_count": 5,
   "metadata": {},
   "outputs": [],
   "source": [
    "transforms_train = A.Compose([\n",
    "    A.RandomResizedCrop(height=SIZE, width=SIZE, p=1.0),\n",
    "    A.Flip(),\n",
    "    A.ShiftScaleRotate(rotate_limit=1.0, p=0.8),\n",
    "\n",
    "    # Pixels\n",
    "    A.OneOf([\n",
    "        A.IAAEmboss(p=1.0),\n",
    "        A.IAASharpen(p=1.0),\n",
    "        A.Blur(p=1.0),\n",
    "    ], p=0.5),\n",
    "\n",
    "    # Affine\n",
    "    A.OneOf([\n",
    "        A.ElasticTransform(p=1.0),\n",
    "        A.IAAPiecewiseAffine(p=1.0)\n",
    "    ], p=0.5),\n",
    "\n",
    "    A.Normalize(p=1.0),\n",
    "    ToTensorV2(p=1.0),\n",
    "])\n",
    "\n",
    "transforms_valid = A.Compose([\n",
    "    A.Resize(height=SIZE, width=SIZE, p=1.0),\n",
    "    A.Normalize(p=1.0),\n",
    "    ToTensorV2(p=1.0),\n",
    "])"
   ]
  },
  {
   "cell_type": "code",
   "execution_count": 6,
   "metadata": {},
   "outputs": [
    {
     "data": {
      "text/html": [
       "<div>\n",
       "<style scoped>\n",
       "    .dataframe tbody tr th:only-of-type {\n",
       "        vertical-align: middle;\n",
       "    }\n",
       "\n",
       "    .dataframe tbody tr th {\n",
       "        vertical-align: top;\n",
       "    }\n",
       "\n",
       "    .dataframe thead th {\n",
       "        text-align: right;\n",
       "    }\n",
       "</style>\n",
       "<table border=\"1\" class=\"dataframe\">\n",
       "  <thead>\n",
       "    <tr style=\"text-align: right;\">\n",
       "      <th></th>\n",
       "      <th>image_id</th>\n",
       "      <th>healthy</th>\n",
       "      <th>multiple_diseases</th>\n",
       "      <th>rust</th>\n",
       "      <th>scab</th>\n",
       "    </tr>\n",
       "  </thead>\n",
       "  <tbody>\n",
       "    <tr>\n",
       "      <th>0</th>\n",
       "      <td>Test_0</td>\n",
       "      <td>0</td>\n",
       "      <td>0</td>\n",
       "      <td>0</td>\n",
       "      <td>0</td>\n",
       "    </tr>\n",
       "    <tr>\n",
       "      <th>1</th>\n",
       "      <td>Test_1</td>\n",
       "      <td>0</td>\n",
       "      <td>0</td>\n",
       "      <td>0</td>\n",
       "      <td>0</td>\n",
       "    </tr>\n",
       "    <tr>\n",
       "      <th>2</th>\n",
       "      <td>Test_2</td>\n",
       "      <td>0</td>\n",
       "      <td>0</td>\n",
       "      <td>0</td>\n",
       "      <td>0</td>\n",
       "    </tr>\n",
       "    <tr>\n",
       "      <th>3</th>\n",
       "      <td>Test_3</td>\n",
       "      <td>0</td>\n",
       "      <td>0</td>\n",
       "      <td>0</td>\n",
       "      <td>0</td>\n",
       "    </tr>\n",
       "    <tr>\n",
       "      <th>4</th>\n",
       "      <td>Test_4</td>\n",
       "      <td>0</td>\n",
       "      <td>0</td>\n",
       "      <td>0</td>\n",
       "      <td>0</td>\n",
       "    </tr>\n",
       "  </tbody>\n",
       "</table>\n",
       "</div>"
      ],
      "text/plain": [
       "  image_id  healthy  multiple_diseases  rust  scab\n",
       "0   Test_0        0                  0     0     0\n",
       "1   Test_1        0                  0     0     0\n",
       "2   Test_2        0                  0     0     0\n",
       "3   Test_3        0                  0     0     0\n",
       "4   Test_4        0                  0     0     0"
      ]
     },
     "execution_count": 6,
     "metadata": {},
     "output_type": "execute_result"
    }
   ],
   "source": [
    "submission_df = pd.read_csv(DIR_INPUT + '/sample_submission.csv')\n",
    "submission_df.iloc[:, 1:] = 0\n",
    "\n",
    "submission_df.head()"
   ]
  },
  {
   "cell_type": "code",
   "execution_count": 7,
   "metadata": {},
   "outputs": [],
   "source": [
    "dataset_test = PlantDataset(df=submission_df, transforms=transforms_valid)\n",
    "dataloader_test = DataLoader(dataset_test, batch_size=BATCH_SIZE, num_workers=4, shuffle=False)"
   ]
  },
  {
   "cell_type": "code",
   "execution_count": 8,
   "metadata": {},
   "outputs": [
    {
     "data": {
      "text/html": [
       "<div>\n",
       "<style scoped>\n",
       "    .dataframe tbody tr th:only-of-type {\n",
       "        vertical-align: middle;\n",
       "    }\n",
       "\n",
       "    .dataframe tbody tr th {\n",
       "        vertical-align: top;\n",
       "    }\n",
       "\n",
       "    .dataframe thead th {\n",
       "        text-align: right;\n",
       "    }\n",
       "</style>\n",
       "<table border=\"1\" class=\"dataframe\">\n",
       "  <thead>\n",
       "    <tr style=\"text-align: right;\">\n",
       "      <th></th>\n",
       "      <th>image_id</th>\n",
       "      <th>healthy</th>\n",
       "      <th>multiple_diseases</th>\n",
       "      <th>rust</th>\n",
       "      <th>scab</th>\n",
       "    </tr>\n",
       "  </thead>\n",
       "  <tbody>\n",
       "    <tr>\n",
       "      <th>0</th>\n",
       "      <td>Train_0</td>\n",
       "      <td>0</td>\n",
       "      <td>0</td>\n",
       "      <td>0</td>\n",
       "      <td>1</td>\n",
       "    </tr>\n",
       "    <tr>\n",
       "      <th>1</th>\n",
       "      <td>Train_1</td>\n",
       "      <td>0</td>\n",
       "      <td>1</td>\n",
       "      <td>0</td>\n",
       "      <td>0</td>\n",
       "    </tr>\n",
       "    <tr>\n",
       "      <th>2</th>\n",
       "      <td>Train_2</td>\n",
       "      <td>1</td>\n",
       "      <td>0</td>\n",
       "      <td>0</td>\n",
       "      <td>0</td>\n",
       "    </tr>\n",
       "    <tr>\n",
       "      <th>3</th>\n",
       "      <td>Train_3</td>\n",
       "      <td>0</td>\n",
       "      <td>0</td>\n",
       "      <td>1</td>\n",
       "      <td>0</td>\n",
       "    </tr>\n",
       "    <tr>\n",
       "      <th>4</th>\n",
       "      <td>Train_4</td>\n",
       "      <td>1</td>\n",
       "      <td>0</td>\n",
       "      <td>0</td>\n",
       "      <td>0</td>\n",
       "    </tr>\n",
       "  </tbody>\n",
       "</table>\n",
       "</div>"
      ],
      "text/plain": [
       "  image_id  healthy  multiple_diseases  rust  scab\n",
       "0  Train_0        0                  0     0     1\n",
       "1  Train_1        0                  1     0     0\n",
       "2  Train_2        1                  0     0     0\n",
       "3  Train_3        0                  0     1     0\n",
       "4  Train_4        1                  0     0     0"
      ]
     },
     "execution_count": 8,
     "metadata": {},
     "output_type": "execute_result"
    }
   ],
   "source": [
    "train_df = pd.read_csv(DIR_INPUT + '/train.csv')\n",
    "\n",
    "# For debugging.\n",
    "# train_df = train_df.sample(n=100)\n",
    "# train_df.reset_index(drop=True, inplace=True)\n",
    "\n",
    "train_labels = train_df.iloc[:, 1:].values\n",
    "\n",
    "# Need for the StratifiedKFold split\n",
    "train_y = train_labels[:, 2] + train_labels[:, 3] * 2 + train_labels[:, 1] * 3\n",
    "\n",
    "train_df.head()"
   ]
  },
  {
   "cell_type": "code",
   "execution_count": 9,
   "metadata": {},
   "outputs": [],
   "source": [
    "folds = StratifiedKFold(n_splits=N_FOLDS, shuffle=True, random_state=SEED)\n",
    "oof_preds = np.zeros((train_df.shape[0], 4))"
   ]
  },
  {
   "cell_type": "code",
   "execution_count": 10,
   "metadata": {},
   "outputs": [],
   "source": [
    "# Download pretrained weights.\n",
    "# model = \n",
    "# model=\n",
    "# model \n",
    "models=[PlantModel()]"
   ]
  },
  {
   "cell_type": "code",
   "execution_count": 11,
   "metadata": {},
   "outputs": [],
   "source": [
    "class DenseCrossEntropy(nn.Module):\n",
    "\n",
    "    def __init__(self):\n",
    "        super(DenseCrossEntropy, self).__init__()\n",
    "        \n",
    "        \n",
    "    def forward(self, logits, labels):\n",
    "        logits = logits.float()\n",
    "        labels = labels.float()\n",
    "        \n",
    "        logprobs = F.log_softmax(logits, dim=-1)\n",
    "        \n",
    "        loss = -labels * logprobs\n",
    "        loss = loss.sum(-1)\n",
    "\n",
    "        return loss.mean()\n",
    "    "
   ]
  },
  {
   "cell_type": "code",
   "execution_count": 12,
   "metadata": {},
   "outputs": [],
   "source": [
    "from tqdm import tqdm \n",
    "def train_one_fold(i_fold, model, criterion, optimizer, dataloader_train, dataloader_valid):\n",
    "    \n",
    "    train_fold_results = []\n",
    "    \n",
    "     #Creating progress bar\n",
    "    mb = master_bar(range(N_EPOCHS))\n",
    "    mb.write(['epoch','train_loss','valid_loss','val_roc'],table=True)\n",
    "    for epoch in mb:   \n",
    "#     for epoch in  tqdm (range(N_EPOCHS)):\n",
    "        # print('  Epoch {}/{}'.format(epoch + 1, N_EPOCHS))\n",
    "        # print('  ' + ('-' * 20))\n",
    "#         os.system(f'echo \\\"  Epoch {epoch}\\\"')\n",
    "\n",
    "        model.train()\n",
    "        tr_loss = 0\n",
    "\n",
    "        for step, batch in enumerate(dataloader_train):\n",
    "\n",
    "            images = batch[0]\n",
    "            labels = batch[1]\n",
    "\n",
    "            images = images.to(device, dtype=torch.float)\n",
    "            labels = labels.to(device, dtype=torch.float)\n",
    "            \n",
    "            outputs = model(images)\n",
    "            loss = criterion(outputs, labels.squeeze(-1))                \n",
    "            loss.backward()\n",
    "\n",
    "            tr_loss += loss.item()\n",
    "\n",
    "            optimizer.step()\n",
    "            optimizer.zero_grad()\n",
    "\n",
    "        # Validate\n",
    "        model.eval()\n",
    "        val_loss = 0\n",
    "        val_preds = None\n",
    "        val_labels = None\n",
    "\n",
    "        for step, batch in enumerate(dataloader_valid):\n",
    "\n",
    "            images = batch[0]\n",
    "            labels = batch[1]\n",
    "\n",
    "            if val_labels is None:\n",
    "                val_labels = labels.clone().squeeze(-1)\n",
    "            else:\n",
    "                val_labels = torch.cat((val_labels, labels.squeeze(-1)), dim=0)\n",
    "\n",
    "            images = images.to(device, dtype=torch.float)\n",
    "            labels = labels.to(device, dtype=torch.float)\n",
    "\n",
    "            with torch.no_grad():\n",
    "                outputs = model(images)\n",
    "\n",
    "                loss = criterion(outputs, labels.squeeze(-1))\n",
    "                val_loss += loss.item()\n",
    "\n",
    "                preds = torch.softmax(outputs, dim=1).data.cpu()\n",
    "\n",
    "                if val_preds is None:\n",
    "                    val_preds = preds\n",
    "                else:\n",
    "                    val_preds = torch.cat((val_preds, preds), dim=0)\n",
    "        \n",
    "        trn_loss=tr_loss / len(dataloader_train)\n",
    "        val_loss=val_loss / len(dataloader_valid)\n",
    "        val_roc=roc_auc_score(val_labels, val_preds, average='macro')\n",
    "        \n",
    "        mb.write([epoch,f'{trn_loss:.6f}',f'{val_loss:.6f}',f'{val_roc:.6f}'],table=True)\n",
    "        train_fold_results.append({\n",
    "            'fold': i_fold,\n",
    "            'epoch': epoch,\n",
    "            'train_loss': trn_loss,\n",
    "            'valid_loss': val_loss,\n",
    "            'valid_score':val_roc ,\n",
    "        })\n",
    "\n",
    "    return val_preds, train_fold_results"
   ]
  },
  {
   "cell_type": "code",
   "execution_count": 13,
   "metadata": {},
   "outputs": [
    {
     "name": "stderr",
     "output_type": "stream",
     "text": [
      "0it [00:00, ?it/s]"
     ]
    },
    {
     "name": "stdout",
     "output_type": "stream",
     "text": [
      "Fold 1/5\n"
     ]
    },
    {
     "data": {
      "text/html": [
       "<table border=\"1\" class=\"dataframe\">\n",
       "  <thead>\n",
       "    <tr style=\"text-align: left;\">\n",
       "      <th>epoch</th>\n",
       "      <th>train_loss</th>\n",
       "      <th>valid_loss</th>\n",
       "      <th>val_roc</th>\n",
       "    </tr>\n",
       "  </thead>\n",
       "  <tbody>\n",
       "    <tr>\n",
       "      <td>0</td>\n",
       "      <td>0.703458</td>\n",
       "      <td>0.305305</td>\n",
       "      <td>0.955184</td>\n",
       "    </tr>\n",
       "    <tr>\n",
       "      <td>1</td>\n",
       "      <td>0.454628</td>\n",
       "      <td>0.270652</td>\n",
       "      <td>0.949448</td>\n",
       "    </tr>\n",
       "    <tr>\n",
       "      <td>2</td>\n",
       "      <td>0.416272</td>\n",
       "      <td>0.232505</td>\n",
       "      <td>0.957797</td>\n",
       "    </tr>\n",
       "    <tr>\n",
       "      <td>3</td>\n",
       "      <td>0.385335</td>\n",
       "      <td>0.189904</td>\n",
       "      <td>0.977366</td>\n",
       "    </tr>\n",
       "    <tr>\n",
       "      <td>4</td>\n",
       "      <td>0.331392</td>\n",
       "      <td>0.231216</td>\n",
       "      <td>0.958305</td>\n",
       "    </tr>\n",
       "    <tr>\n",
       "      <td>5</td>\n",
       "      <td>0.342648</td>\n",
       "      <td>0.203714</td>\n",
       "      <td>0.970655</td>\n",
       "    </tr>\n",
       "    <tr>\n",
       "      <td>6</td>\n",
       "      <td>0.337041</td>\n",
       "      <td>0.211160</td>\n",
       "      <td>0.972009</td>\n",
       "    </tr>\n",
       "    <tr>\n",
       "      <td>7</td>\n",
       "      <td>0.351580</td>\n",
       "      <td>0.198341</td>\n",
       "      <td>0.972083</td>\n",
       "    </tr>\n",
       "    <tr>\n",
       "      <td>8</td>\n",
       "      <td>0.274910</td>\n",
       "      <td>0.187475</td>\n",
       "      <td>0.970406</td>\n",
       "    </tr>\n",
       "    <tr>\n",
       "      <td>9</td>\n",
       "      <td>0.265756</td>\n",
       "      <td>0.167074</td>\n",
       "      <td>0.979077</td>\n",
       "    </tr>\n",
       "    <tr>\n",
       "      <td>10</td>\n",
       "      <td>0.291040</td>\n",
       "      <td>0.166176</td>\n",
       "      <td>0.982353</td>\n",
       "    </tr>\n",
       "    <tr>\n",
       "      <td>11</td>\n",
       "      <td>0.240390</td>\n",
       "      <td>0.149796</td>\n",
       "      <td>0.978997</td>\n",
       "    </tr>\n",
       "    <tr>\n",
       "      <td>12</td>\n",
       "      <td>0.255478</td>\n",
       "      <td>0.158386</td>\n",
       "      <td>0.976181</td>\n",
       "    </tr>\n",
       "    <tr>\n",
       "      <td>13</td>\n",
       "      <td>0.269890</td>\n",
       "      <td>0.159016</td>\n",
       "      <td>0.969938</td>\n",
       "    </tr>\n",
       "    <tr>\n",
       "      <td>14</td>\n",
       "      <td>0.253861</td>\n",
       "      <td>0.150691</td>\n",
       "      <td>0.985644</td>\n",
       "    </tr>\n",
       "  </tbody>\n",
       "</table>"
      ],
      "text/plain": [
       "<IPython.core.display.HTML object>"
      ]
     },
     "metadata": {},
     "output_type": "display_data"
    },
    {
     "name": "stderr",
     "output_type": "stream",
     "text": [
      "1it [20:13, 1213.29s/it]"
     ]
    },
    {
     "name": "stdout",
     "output_type": "stream",
     "text": [
      "Fold 2/5\n"
     ]
    },
    {
     "data": {
      "text/html": [
       "<table border=\"1\" class=\"dataframe\">\n",
       "  <thead>\n",
       "    <tr style=\"text-align: left;\">\n",
       "      <th>epoch</th>\n",
       "      <th>train_loss</th>\n",
       "      <th>valid_loss</th>\n",
       "      <th>val_roc</th>\n",
       "    </tr>\n",
       "  </thead>\n",
       "  <tbody>\n",
       "    <tr>\n",
       "      <td>0</td>\n",
       "      <td>0.277945</td>\n",
       "      <td>0.161009</td>\n",
       "      <td>0.985240</td>\n",
       "    </tr>\n",
       "    <tr>\n",
       "      <td>1</td>\n",
       "      <td>0.268960</td>\n",
       "      <td>0.141463</td>\n",
       "      <td>0.985328</td>\n",
       "    </tr>\n",
       "    <tr>\n",
       "      <td>2</td>\n",
       "      <td>0.250018</td>\n",
       "      <td>0.133140</td>\n",
       "      <td>0.991442</td>\n",
       "    </tr>\n",
       "    <tr>\n",
       "      <td>3</td>\n",
       "      <td>0.242829</td>\n",
       "      <td>0.136703</td>\n",
       "      <td>0.973695</td>\n",
       "    </tr>\n",
       "    <tr>\n",
       "      <td>4</td>\n",
       "      <td>0.228346</td>\n",
       "      <td>0.099260</td>\n",
       "      <td>0.988205</td>\n",
       "    </tr>\n",
       "    <tr>\n",
       "      <td>5</td>\n",
       "      <td>0.203051</td>\n",
       "      <td>0.172006</td>\n",
       "      <td>0.975026</td>\n",
       "    </tr>\n",
       "    <tr>\n",
       "      <td>6</td>\n",
       "      <td>0.230415</td>\n",
       "      <td>0.141984</td>\n",
       "      <td>0.984590</td>\n",
       "    </tr>\n",
       "    <tr>\n",
       "      <td>7</td>\n",
       "      <td>0.242184</td>\n",
       "      <td>0.173410</td>\n",
       "      <td>0.972496</td>\n",
       "    </tr>\n",
       "    <tr>\n",
       "      <td>8</td>\n",
       "      <td>0.189008</td>\n",
       "      <td>0.124267</td>\n",
       "      <td>0.986901</td>\n",
       "    </tr>\n",
       "    <tr>\n",
       "      <td>9</td>\n",
       "      <td>0.212915</td>\n",
       "      <td>0.160818</td>\n",
       "      <td>0.965296</td>\n",
       "    </tr>\n",
       "    <tr>\n",
       "      <td>10</td>\n",
       "      <td>0.197525</td>\n",
       "      <td>0.143011</td>\n",
       "      <td>0.975425</td>\n",
       "    </tr>\n",
       "    <tr>\n",
       "      <td>11</td>\n",
       "      <td>0.186136</td>\n",
       "      <td>0.157492</td>\n",
       "      <td>0.975449</td>\n",
       "    </tr>\n",
       "    <tr>\n",
       "      <td>12</td>\n",
       "      <td>0.182834</td>\n",
       "      <td>0.179186</td>\n",
       "      <td>0.967440</td>\n",
       "    </tr>\n",
       "    <tr>\n",
       "      <td>13</td>\n",
       "      <td>0.199128</td>\n",
       "      <td>0.128178</td>\n",
       "      <td>0.981140</td>\n",
       "    </tr>\n",
       "    <tr>\n",
       "      <td>14</td>\n",
       "      <td>0.184834</td>\n",
       "      <td>0.134076</td>\n",
       "      <td>0.980961</td>\n",
       "    </tr>\n",
       "  </tbody>\n",
       "</table>"
      ],
      "text/plain": [
       "<IPython.core.display.HTML object>"
      ]
     },
     "metadata": {},
     "output_type": "display_data"
    },
    {
     "name": "stderr",
     "output_type": "stream",
     "text": [
      "2it [40:33, 1215.26s/it]"
     ]
    },
    {
     "name": "stdout",
     "output_type": "stream",
     "text": [
      "Fold 3/5\n"
     ]
    },
    {
     "data": {
      "text/html": [
       "<table border=\"1\" class=\"dataframe\">\n",
       "  <thead>\n",
       "    <tr style=\"text-align: left;\">\n",
       "      <th>epoch</th>\n",
       "      <th>train_loss</th>\n",
       "      <th>valid_loss</th>\n",
       "      <th>val_roc</th>\n",
       "    </tr>\n",
       "  </thead>\n",
       "  <tbody>\n",
       "    <tr>\n",
       "      <td>0</td>\n",
       "      <td>0.200745</td>\n",
       "      <td>0.063317</td>\n",
       "      <td>0.997569</td>\n",
       "    </tr>\n",
       "    <tr>\n",
       "      <td>1</td>\n",
       "      <td>0.220338</td>\n",
       "      <td>0.050731</td>\n",
       "      <td>0.997477</td>\n",
       "    </tr>\n",
       "    <tr>\n",
       "      <td>2</td>\n",
       "      <td>0.186412</td>\n",
       "      <td>0.062477</td>\n",
       "      <td>0.997870</td>\n",
       "    </tr>\n",
       "    <tr>\n",
       "      <td>3</td>\n",
       "      <td>0.188787</td>\n",
       "      <td>0.075102</td>\n",
       "      <td>0.996824</td>\n",
       "    </tr>\n",
       "    <tr>\n",
       "      <td>4</td>\n",
       "      <td>0.161138</td>\n",
       "      <td>0.057344</td>\n",
       "      <td>0.995360</td>\n",
       "    </tr>\n",
       "    <tr>\n",
       "      <td>5</td>\n",
       "      <td>0.183861</td>\n",
       "      <td>0.055940</td>\n",
       "      <td>0.996020</td>\n",
       "    </tr>\n",
       "    <tr>\n",
       "      <td>6</td>\n",
       "      <td>0.182908</td>\n",
       "      <td>0.080198</td>\n",
       "      <td>0.994318</td>\n",
       "    </tr>\n",
       "    <tr>\n",
       "      <td>7</td>\n",
       "      <td>0.172203</td>\n",
       "      <td>0.065825</td>\n",
       "      <td>0.993533</td>\n",
       "    </tr>\n",
       "    <tr>\n",
       "      <td>8</td>\n",
       "      <td>0.193789</td>\n",
       "      <td>0.078687</td>\n",
       "      <td>0.996216</td>\n",
       "    </tr>\n",
       "    <tr>\n",
       "      <td>9</td>\n",
       "      <td>0.164702</td>\n",
       "      <td>0.079015</td>\n",
       "      <td>0.996486</td>\n",
       "    </tr>\n",
       "    <tr>\n",
       "      <td>10</td>\n",
       "      <td>0.176434</td>\n",
       "      <td>0.075204</td>\n",
       "      <td>0.997039</td>\n",
       "    </tr>\n",
       "    <tr>\n",
       "      <td>11</td>\n",
       "      <td>0.168412</td>\n",
       "      <td>0.083695</td>\n",
       "      <td>0.993625</td>\n",
       "    </tr>\n",
       "    <tr>\n",
       "      <td>12</td>\n",
       "      <td>0.190246</td>\n",
       "      <td>0.060713</td>\n",
       "      <td>0.997826</td>\n",
       "    </tr>\n",
       "    <tr>\n",
       "      <td>13</td>\n",
       "      <td>0.193147</td>\n",
       "      <td>0.065654</td>\n",
       "      <td>0.997767</td>\n",
       "    </tr>\n",
       "    <tr>\n",
       "      <td>14</td>\n",
       "      <td>0.147566</td>\n",
       "      <td>0.083537</td>\n",
       "      <td>0.998230</td>\n",
       "    </tr>\n",
       "  </tbody>\n",
       "</table>"
      ],
      "text/plain": [
       "<IPython.core.display.HTML object>"
      ]
     },
     "metadata": {},
     "output_type": "display_data"
    },
    {
     "name": "stderr",
     "output_type": "stream",
     "text": [
      "3it [1:00:51, 1216.12s/it]"
     ]
    },
    {
     "name": "stdout",
     "output_type": "stream",
     "text": [
      "Fold 4/5\n"
     ]
    },
    {
     "data": {
      "text/html": [
       "<table border=\"1\" class=\"dataframe\">\n",
       "  <thead>\n",
       "    <tr style=\"text-align: left;\">\n",
       "      <th>epoch</th>\n",
       "      <th>train_loss</th>\n",
       "      <th>valid_loss</th>\n",
       "      <th>val_roc</th>\n",
       "    </tr>\n",
       "  </thead>\n",
       "  <tbody>\n",
       "    <tr>\n",
       "      <td>0</td>\n",
       "      <td>0.209175</td>\n",
       "      <td>0.019017</td>\n",
       "      <td>1.000000</td>\n",
       "    </tr>\n",
       "    <tr>\n",
       "      <td>1</td>\n",
       "      <td>0.157550</td>\n",
       "      <td>0.028139</td>\n",
       "      <td>0.999902</td>\n",
       "    </tr>\n",
       "    <tr>\n",
       "      <td>2</td>\n",
       "      <td>0.179405</td>\n",
       "      <td>0.026363</td>\n",
       "      <td>0.999880</td>\n",
       "    </tr>\n",
       "    <tr>\n",
       "      <td>3</td>\n",
       "      <td>0.176242</td>\n",
       "      <td>0.021721</td>\n",
       "      <td>0.999951</td>\n",
       "    </tr>\n",
       "    <tr>\n",
       "      <td>4</td>\n",
       "      <td>0.147882</td>\n",
       "      <td>0.033424</td>\n",
       "      <td>0.999885</td>\n",
       "    </tr>\n",
       "    <tr>\n",
       "      <td>5</td>\n",
       "      <td>0.151474</td>\n",
       "      <td>0.049954</td>\n",
       "      <td>0.999900</td>\n",
       "    </tr>\n",
       "    <tr>\n",
       "      <td>6</td>\n",
       "      <td>0.157042</td>\n",
       "      <td>0.024330</td>\n",
       "      <td>0.999920</td>\n",
       "    </tr>\n",
       "    <tr>\n",
       "      <td>7</td>\n",
       "      <td>0.150130</td>\n",
       "      <td>0.063247</td>\n",
       "      <td>0.999178</td>\n",
       "    </tr>\n",
       "    <tr>\n",
       "      <td>8</td>\n",
       "      <td>0.140366</td>\n",
       "      <td>0.051315</td>\n",
       "      <td>0.999255</td>\n",
       "    </tr>\n",
       "    <tr>\n",
       "      <td>9</td>\n",
       "      <td>0.143630</td>\n",
       "      <td>0.064127</td>\n",
       "      <td>0.998701</td>\n",
       "    </tr>\n",
       "    <tr>\n",
       "      <td>10</td>\n",
       "      <td>0.151817</td>\n",
       "      <td>0.047136</td>\n",
       "      <td>0.998923</td>\n",
       "    </tr>\n",
       "    <tr>\n",
       "      <td>11</td>\n",
       "      <td>0.143208</td>\n",
       "      <td>0.032385</td>\n",
       "      <td>0.999740</td>\n",
       "    </tr>\n",
       "    <tr>\n",
       "      <td>12</td>\n",
       "      <td>0.149387</td>\n",
       "      <td>0.069976</td>\n",
       "      <td>0.999172</td>\n",
       "    </tr>\n",
       "    <tr>\n",
       "      <td>13</td>\n",
       "      <td>0.148854</td>\n",
       "      <td>0.070233</td>\n",
       "      <td>0.999190</td>\n",
       "    </tr>\n",
       "    <tr>\n",
       "      <td>14</td>\n",
       "      <td>0.145342</td>\n",
       "      <td>0.067747</td>\n",
       "      <td>0.999184</td>\n",
       "    </tr>\n",
       "  </tbody>\n",
       "</table>"
      ],
      "text/plain": [
       "<IPython.core.display.HTML object>"
      ]
     },
     "metadata": {},
     "output_type": "display_data"
    },
    {
     "name": "stderr",
     "output_type": "stream",
     "text": [
      "4it [1:21:11, 1217.40s/it]"
     ]
    },
    {
     "name": "stdout",
     "output_type": "stream",
     "text": [
      "Fold 5/5\n"
     ]
    },
    {
     "data": {
      "text/html": [
       "<table border=\"1\" class=\"dataframe\">\n",
       "  <thead>\n",
       "    <tr style=\"text-align: left;\">\n",
       "      <th>epoch</th>\n",
       "      <th>train_loss</th>\n",
       "      <th>valid_loss</th>\n",
       "      <th>val_roc</th>\n",
       "    </tr>\n",
       "  </thead>\n",
       "  <tbody>\n",
       "    <tr>\n",
       "      <td>0</td>\n",
       "      <td>0.165056</td>\n",
       "      <td>0.039629</td>\n",
       "      <td>0.999716</td>\n",
       "    </tr>\n",
       "    <tr>\n",
       "      <td>1</td>\n",
       "      <td>0.148191</td>\n",
       "      <td>0.026568</td>\n",
       "      <td>0.999878</td>\n",
       "    </tr>\n",
       "    <tr>\n",
       "      <td>2</td>\n",
       "      <td>0.136648</td>\n",
       "      <td>0.018200</td>\n",
       "      <td>0.999983</td>\n",
       "    </tr>\n",
       "    <tr>\n",
       "      <td>3</td>\n",
       "      <td>0.119099</td>\n",
       "      <td>0.033892</td>\n",
       "      <td>0.999681</td>\n",
       "    </tr>\n",
       "    <tr>\n",
       "      <td>4</td>\n",
       "      <td>0.135100</td>\n",
       "      <td>0.035183</td>\n",
       "      <td>0.999847</td>\n",
       "    </tr>\n",
       "    <tr>\n",
       "      <td>5</td>\n",
       "      <td>0.145066</td>\n",
       "      <td>0.025359</td>\n",
       "      <td>0.999694</td>\n",
       "    </tr>\n",
       "    <tr>\n",
       "      <td>6</td>\n",
       "      <td>0.137850</td>\n",
       "      <td>0.027839</td>\n",
       "      <td>0.999498</td>\n",
       "    </tr>\n",
       "    <tr>\n",
       "      <td>7</td>\n",
       "      <td>0.141281</td>\n",
       "      <td>0.025306</td>\n",
       "      <td>0.999923</td>\n",
       "    </tr>\n",
       "    <tr>\n",
       "      <td>8</td>\n",
       "      <td>0.119714</td>\n",
       "      <td>0.028048</td>\n",
       "      <td>0.999876</td>\n",
       "    </tr>\n",
       "    <tr>\n",
       "      <td>9</td>\n",
       "      <td>0.151964</td>\n",
       "      <td>0.042910</td>\n",
       "      <td>0.999090</td>\n",
       "    </tr>\n",
       "    <tr>\n",
       "      <td>10</td>\n",
       "      <td>0.148832</td>\n",
       "      <td>0.071326</td>\n",
       "      <td>0.998779</td>\n",
       "    </tr>\n",
       "    <tr>\n",
       "      <td>11</td>\n",
       "      <td>0.125872</td>\n",
       "      <td>0.034867</td>\n",
       "      <td>0.998083</td>\n",
       "    </tr>\n",
       "    <tr>\n",
       "      <td>12</td>\n",
       "      <td>0.105667</td>\n",
       "      <td>0.050286</td>\n",
       "      <td>0.998595</td>\n",
       "    </tr>\n",
       "    <tr>\n",
       "      <td>13</td>\n",
       "      <td>0.127634</td>\n",
       "      <td>0.067086</td>\n",
       "      <td>0.998574</td>\n",
       "    </tr>\n",
       "    <tr>\n",
       "      <td>14</td>\n",
       "      <td>0.136873</td>\n",
       "      <td>0.135215</td>\n",
       "      <td>0.997875</td>\n",
       "    </tr>\n",
       "  </tbody>\n",
       "</table>"
      ],
      "text/plain": [
       "<IPython.core.display.HTML object>"
      ]
     },
     "metadata": {},
     "output_type": "display_data"
    },
    {
     "name": "stderr",
     "output_type": "stream",
     "text": [
      "5it [1:41:33, 1218.76s/it]"
     ]
    },
    {
     "name": "stdout",
     "output_type": "stream",
     "text": [
      "5-Folds CV score: 0.9910\n"
     ]
    },
    {
     "name": "stderr",
     "output_type": "stream",
     "text": [
      "\n"
     ]
    }
   ],
   "source": [
    "from tqdm import tqdm \n",
    "submissions = None\n",
    "train_results = []\n",
    "\n",
    "for m in models:\n",
    "    for i_fold, (train_idx, valid_idx) in tqdm (enumerate(folds.split(train_df, train_y))):\n",
    "        print(\"Fold {}/{}\".format(i_fold + 1, N_FOLDS))\n",
    "\n",
    "        valid = train_df.iloc[valid_idx]\n",
    "        valid.reset_index(drop=True, inplace=True)\n",
    "\n",
    "        train = train_df.iloc[train_idx]\n",
    "        train.reset_index(drop=True, inplace=True)    \n",
    "\n",
    "        dataset_train = PlantDataset(df=train, transforms=transforms_train) # shlomo\n",
    "        dataset_valid = PlantDataset(df=valid, transforms=transforms_valid)\n",
    "\n",
    "        dataloader_train = DataLoader(dataset_train, batch_size=BATCH_SIZE, num_workers=8, shuffle=True)\n",
    "        dataloader_valid = DataLoader(dataset_valid, batch_size=BATCH_SIZE, num_workers=8, shuffle=False)\n",
    "\n",
    "        device = torch.device(\"cuda:0\")\n",
    "\n",
    "        model = m\n",
    "        model.to(device)\n",
    "\n",
    "        criterion = DenseCrossEntropy()\n",
    "        plist = [{'params': model.parameters(), 'lr': 5e-5}]\n",
    "        optimizer = optim.Adam(plist, lr=5e-5)\n",
    "\n",
    "        val_preds, train_fold_results = train_one_fold(i_fold, model, criterion, optimizer, dataloader_train, dataloader_valid)\n",
    "        oof_preds[valid_idx, :] = val_preds.numpy()\n",
    "\n",
    "        train_results = train_results + train_fold_results\n",
    "\n",
    "        model.eval()\n",
    "        test_preds = None\n",
    "\n",
    "        for step, batch in (enumerate(dataloader_test)):\n",
    "\n",
    "            images = batch[0]\n",
    "            images = images.to(device, dtype=torch.float)\n",
    "\n",
    "            with torch.no_grad():\n",
    "                outputs = model(images)\n",
    "\n",
    "                if test_preds is None:\n",
    "                    test_preds = outputs.data.cpu()\n",
    "                else:\n",
    "                    test_preds = torch.cat((test_preds, outputs.data.cpu()), dim=0)\n",
    "\n",
    "\n",
    "        # Save predictions per fold\n",
    "        submission_df[['healthy', 'multiple_diseases', 'rust', 'scab']] = torch.softmax(test_preds, dim=1)\n",
    "        submission_df.to_csv('submission_fold_{}.csv'.format(i_fold), index=False)\n",
    "\n",
    "        # logits avg\n",
    "        if submissions is None:\n",
    "            submissions = test_preds / N_FOLDS\n",
    "        else:\n",
    "            submissions += test_preds / N_FOLDS\n",
    "\n",
    "    print(\"5-Folds CV score: {:.4f}\".format(roc_auc_score(train_labels, oof_preds, average='macro')))"
   ]
  },
  {
   "cell_type": "markdown",
   "metadata": {},
   "source": [
    "# Show train history"
   ]
  },
  {
   "cell_type": "code",
   "execution_count": 14,
   "metadata": {
    "_kg_hide-output": true
   },
   "outputs": [
    {
     "data": {
      "text/html": [
       "<div>\n",
       "<style scoped>\n",
       "    .dataframe tbody tr th:only-of-type {\n",
       "        vertical-align: middle;\n",
       "    }\n",
       "\n",
       "    .dataframe tbody tr th {\n",
       "        vertical-align: top;\n",
       "    }\n",
       "\n",
       "    .dataframe thead th {\n",
       "        text-align: right;\n",
       "    }\n",
       "</style>\n",
       "<table border=\"1\" class=\"dataframe\">\n",
       "  <thead>\n",
       "    <tr style=\"text-align: right;\">\n",
       "      <th></th>\n",
       "      <th>fold</th>\n",
       "      <th>epoch</th>\n",
       "      <th>train_loss</th>\n",
       "      <th>valid_loss</th>\n",
       "      <th>valid_score</th>\n",
       "    </tr>\n",
       "  </thead>\n",
       "  <tbody>\n",
       "    <tr>\n",
       "      <th>0</th>\n",
       "      <td>0</td>\n",
       "      <td>0</td>\n",
       "      <td>0.703458</td>\n",
       "      <td>0.305305</td>\n",
       "      <td>0.955184</td>\n",
       "    </tr>\n",
       "    <tr>\n",
       "      <th>1</th>\n",
       "      <td>0</td>\n",
       "      <td>1</td>\n",
       "      <td>0.454628</td>\n",
       "      <td>0.270652</td>\n",
       "      <td>0.949448</td>\n",
       "    </tr>\n",
       "    <tr>\n",
       "      <th>2</th>\n",
       "      <td>0</td>\n",
       "      <td>2</td>\n",
       "      <td>0.416272</td>\n",
       "      <td>0.232505</td>\n",
       "      <td>0.957797</td>\n",
       "    </tr>\n",
       "    <tr>\n",
       "      <th>3</th>\n",
       "      <td>0</td>\n",
       "      <td>3</td>\n",
       "      <td>0.385335</td>\n",
       "      <td>0.189904</td>\n",
       "      <td>0.977366</td>\n",
       "    </tr>\n",
       "    <tr>\n",
       "      <th>4</th>\n",
       "      <td>0</td>\n",
       "      <td>4</td>\n",
       "      <td>0.331392</td>\n",
       "      <td>0.231216</td>\n",
       "      <td>0.958305</td>\n",
       "    </tr>\n",
       "    <tr>\n",
       "      <th>5</th>\n",
       "      <td>0</td>\n",
       "      <td>5</td>\n",
       "      <td>0.342648</td>\n",
       "      <td>0.203714</td>\n",
       "      <td>0.970655</td>\n",
       "    </tr>\n",
       "    <tr>\n",
       "      <th>6</th>\n",
       "      <td>0</td>\n",
       "      <td>6</td>\n",
       "      <td>0.337041</td>\n",
       "      <td>0.211160</td>\n",
       "      <td>0.972009</td>\n",
       "    </tr>\n",
       "    <tr>\n",
       "      <th>7</th>\n",
       "      <td>0</td>\n",
       "      <td>7</td>\n",
       "      <td>0.351580</td>\n",
       "      <td>0.198341</td>\n",
       "      <td>0.972083</td>\n",
       "    </tr>\n",
       "    <tr>\n",
       "      <th>8</th>\n",
       "      <td>0</td>\n",
       "      <td>8</td>\n",
       "      <td>0.274910</td>\n",
       "      <td>0.187475</td>\n",
       "      <td>0.970406</td>\n",
       "    </tr>\n",
       "    <tr>\n",
       "      <th>9</th>\n",
       "      <td>0</td>\n",
       "      <td>9</td>\n",
       "      <td>0.265756</td>\n",
       "      <td>0.167074</td>\n",
       "      <td>0.979077</td>\n",
       "    </tr>\n",
       "  </tbody>\n",
       "</table>\n",
       "</div>"
      ],
      "text/plain": [
       "   fold  epoch  train_loss  valid_loss  valid_score\n",
       "0     0      0    0.703458    0.305305     0.955184\n",
       "1     0      1    0.454628    0.270652     0.949448\n",
       "2     0      2    0.416272    0.232505     0.957797\n",
       "3     0      3    0.385335    0.189904     0.977366\n",
       "4     0      4    0.331392    0.231216     0.958305\n",
       "5     0      5    0.342648    0.203714     0.970655\n",
       "6     0      6    0.337041    0.211160     0.972009\n",
       "7     0      7    0.351580    0.198341     0.972083\n",
       "8     0      8    0.274910    0.187475     0.970406\n",
       "9     0      9    0.265756    0.167074     0.979077"
      ]
     },
     "execution_count": 14,
     "metadata": {},
     "output_type": "execute_result"
    }
   ],
   "source": [
    "train_results = pd.DataFrame(train_results)\n",
    "train_results.head(10)"
   ]
  },
  {
   "cell_type": "code",
   "execution_count": 19,
   "metadata": {
    "_kg_hide-input": true
   },
   "outputs": [
    {
     "data": {
      "application/vnd.plotly.v1+json": {
       "config": {
        "plotlyServerURL": "https://plot.ly"
       },
       "data": [
        {
         "line": {
          "color": "#d32f2f",
          "width": 2
         },
         "mode": "lines",
         "name": "Train loss - Fold #0",
         "type": "scatter",
         "visible": true,
         "x": [
          0,
          1,
          2,
          3,
          4,
          5,
          6,
          7,
          8,
          9,
          10,
          11,
          12,
          13,
          14
         ],
         "xaxis": "x",
         "y": [
          0.7034576145596192,
          0.4546284916215256,
          0.4162721541084227,
          0.38533547935915774,
          0.33139221994664336,
          0.3426478043137515,
          0.33704100109514645,
          0.3515799086632543,
          0.27490953017087255,
          0.2657558788530162,
          0.2910396652448861,
          0.24039023824524683,
          0.25547819450253345,
          0.2698903845500995,
          0.2538605470546201
         ],
         "yaxis": "y"
        },
        {
         "line": {
          "color": "#ef5350",
          "width": 2
         },
         "mode": "lines+markers",
         "name": "Valid loss - Fold #0",
         "type": "scatter",
         "visible": true,
         "x": [
          0,
          1,
          2,
          3,
          4,
          5,
          6,
          7,
          8,
          9,
          10,
          11,
          12,
          13,
          14
         ],
         "xaxis": "x",
         "y": [
          0.3053052766669181,
          0.27065176462694523,
          0.23250501248384675,
          0.18990351109495085,
          0.23121648945755535,
          0.20371374130369194,
          0.2111599560706846,
          0.1983414997887467,
          0.18747518390357013,
          0.16707351139836735,
          0.16617580392067471,
          0.14979566319755488,
          0.15838592935113177,
          0.1590161740839962,
          0.15069089523486554
         ],
         "yaxis": "y"
        },
        {
         "line": {
          "color": "#d32f2f",
          "width": 2
         },
         "mode": "lines+markers",
         "name": "Valid score - Fold #0",
         "showlegend": false,
         "type": "scatter",
         "x": [
          0,
          1,
          2,
          3,
          4,
          5,
          6,
          7,
          8,
          9,
          10,
          11,
          12,
          13,
          14
         ],
         "xaxis": "x2",
         "y": [
          0.9551841732485009,
          0.9494475189777883,
          0.9577972635075449,
          0.9773661128490325,
          0.9583053782636332,
          0.9706549048033708,
          0.9720091463767874,
          0.972082649734152,
          0.9704064169800201,
          0.9790770898687333,
          0.9823533965612007,
          0.9789972645116799,
          0.9761814798194073,
          0.9699375677149068,
          0.9856439792567673
         ],
         "yaxis": "y2"
        },
        {
         "line": {
          "color": "#303f9f",
          "width": 2
         },
         "mode": "lines",
         "name": "Train loss - Fold #1",
         "type": "scatter",
         "visible": "legendonly",
         "x": [
          0,
          1,
          2,
          3,
          4,
          5,
          6,
          7,
          8,
          9,
          10,
          11,
          12,
          13,
          14
         ],
         "xaxis": "x",
         "y": [
          0.27794547317946544,
          0.26895967019019557,
          0.250018284671375,
          0.24282909859521468,
          0.2283462496077428,
          0.20305128760452643,
          0.23041517718801977,
          0.24218363053791347,
          0.18900840199689883,
          0.21291474739975128,
          0.19752510529408446,
          0.18613617824482137,
          0.182834311350264,
          0.19912826207267945,
          0.1848336192779243
         ],
         "yaxis": "y"
        },
        {
         "line": {
          "color": "#5c6bc0",
          "width": 2
         },
         "mode": "lines+markers",
         "name": "Valid loss - Fold #1",
         "type": "scatter",
         "visible": "legendonly",
         "x": [
          0,
          1,
          2,
          3,
          4,
          5,
          6,
          7,
          8,
          9,
          10,
          11,
          12,
          13,
          14
         ],
         "xaxis": "x",
         "y": [
          0.16100943345396268,
          0.1414629992908768,
          0.13313971638619418,
          0.13670337770975405,
          0.09926012114831997,
          0.1720056550036515,
          0.141984291945494,
          0.1734095857508721,
          0.12426654612945934,
          0.1608175106887375,
          0.14301114337098214,
          0.1574920066482117,
          0.1791863981934805,
          0.12817772542456946,
          0.1340757511075466
         ],
         "yaxis": "y"
        },
        {
         "line": {
          "color": "#303f9f",
          "width": 2
         },
         "mode": "lines+markers",
         "name": "Valid score - Fold #1",
         "showlegend": false,
         "type": "scatter",
         "x": [
          0,
          1,
          2,
          3,
          4,
          5,
          6,
          7,
          8,
          9,
          10,
          11,
          12,
          13,
          14
         ],
         "xaxis": "x2",
         "y": [
          0.9852398685960296,
          0.9853280643334978,
          0.9914421357661715,
          0.9736953858177291,
          0.9882054627030434,
          0.9750259801636311,
          0.984590459953206,
          0.9724958616938756,
          0.9869008422830567,
          0.9652959108048728,
          0.975425304428899,
          0.9754493771339147,
          0.9674398873823863,
          0.9811400397222897,
          0.9809606740503014
         ],
         "yaxis": "y2"
        },
        {
         "line": {
          "color": "#00796b",
          "width": 2
         },
         "mode": "lines",
         "name": "Train loss - Fold #2",
         "type": "scatter",
         "visible": "legendonly",
         "x": [
          0,
          1,
          2,
          3,
          4,
          5,
          6,
          7,
          8,
          9,
          10,
          11,
          12,
          13,
          14
         ],
         "xaxis": "x",
         "y": [
          0.2007450031070802,
          0.22033753685011973,
          0.18641181664205478,
          0.1887872474741374,
          0.16113819511317204,
          0.18386121215413279,
          0.18290777716663528,
          0.17220313356212172,
          0.1937891494360615,
          0.16470208454907673,
          0.1764339461281407,
          0.16841216343760368,
          0.19024586750835668,
          0.19314671445973827,
          0.14756635536027493
         ],
         "yaxis": "y"
        },
        {
         "line": {
          "color": "#26a69a",
          "width": 2
         },
         "mode": "lines+markers",
         "name": "Valid loss - Fold #2",
         "type": "scatter",
         "visible": "legendonly",
         "x": [
          0,
          1,
          2,
          3,
          4,
          5,
          6,
          7,
          8,
          9,
          10,
          11,
          12,
          13,
          14
         ],
         "xaxis": "x",
         "y": [
          0.063316902581362,
          0.050731427021204464,
          0.062477309587261366,
          0.07510226231909567,
          0.05734399222438374,
          0.055939886448604446,
          0.08019842596484288,
          0.06582493602388328,
          0.07868677089291234,
          0.07901477116730905,
          0.0752042583340118,
          0.08369474003331796,
          0.06071322718484988,
          0.06565375427805609,
          0.08353720217823021
         ],
         "yaxis": "y"
        },
        {
         "line": {
          "color": "#00796b",
          "width": 2
         },
         "mode": "lines+markers",
         "name": "Valid score - Fold #2",
         "showlegend": false,
         "type": "scatter",
         "x": [
          0,
          1,
          2,
          3,
          4,
          5,
          6,
          7,
          8,
          9,
          10,
          11,
          12,
          13,
          14
         ],
         "xaxis": "x2",
         "y": [
          0.997569052113874,
          0.9974773003551026,
          0.9978702615515558,
          0.9968242309826496,
          0.9953597248281323,
          0.9960196993781077,
          0.9943181652084935,
          0.993532561953985,
          0.996215714567416,
          0.9964855894290647,
          0.9970394157499626,
          0.9936248725718562,
          0.9978260805943793,
          0.9977674614624532,
          0.9982304444736718
         ],
         "yaxis": "y2"
        },
        {
         "line": {
          "color": "#fbc02d",
          "width": 2
         },
         "mode": "lines",
         "name": "Train loss - Fold #3",
         "type": "scatter",
         "visible": "legendonly",
         "x": [
          0,
          1,
          2,
          3,
          4,
          5,
          6,
          7,
          8,
          9,
          10,
          11,
          12,
          13,
          14
         ],
         "xaxis": "x",
         "y": [
          0.20917466916830935,
          0.15754965401147722,
          0.17940495067016513,
          0.17624229174412664,
          0.14788201076864096,
          0.1514739074713749,
          0.15704212892708963,
          0.15013044824457314,
          0.140366280962881,
          0.1436303235040825,
          0.15181725848939454,
          0.14320807356662194,
          0.14938687839255224,
          0.14885436253217582,
          0.14534163596795596
         ],
         "yaxis": "y"
        },
        {
         "line": {
          "color": "#ffeb3b",
          "width": 2
         },
         "mode": "lines+markers",
         "name": "Valid loss - Fold #3",
         "type": "scatter",
         "visible": "legendonly",
         "x": [
          0,
          1,
          2,
          3,
          4,
          5,
          6,
          7,
          8,
          9,
          10,
          11,
          12,
          13,
          14
         ],
         "xaxis": "x",
         "y": [
          0.01901735993657982,
          0.028138742113726273,
          0.02636314556002617,
          0.021721067173676865,
          0.03342421967235784,
          0.04995381780299208,
          0.024330248350217458,
          0.06324725795064061,
          0.051314893726920406,
          0.0641272134155095,
          0.04713596873766472,
          0.03238532351773052,
          0.06997613876967901,
          0.0702325078065417,
          0.06774717534051067
         ],
         "yaxis": "y"
        },
        {
         "line": {
          "color": "#fbc02d",
          "width": 2
         },
         "mode": "lines+markers",
         "name": "Valid score - Fold #3",
         "showlegend": false,
         "type": "scatter",
         "x": [
          0,
          1,
          2,
          3,
          4,
          5,
          6,
          7,
          8,
          9,
          10,
          11,
          12,
          13,
          14
         ],
         "xaxis": "x2",
         "y": [
          1,
          0.9999018594688771,
          0.9998795761078998,
          0.999951246328374,
          0.9998852679082292,
          0.9999002075926927,
          0.9999197174052665,
          0.9991775148925611,
          0.999255449934145,
          0.9987010701009644,
          0.9989230435824658,
          0.9997400660764757,
          0.999171516334911,
          0.9991897076669123,
          0.9991844152235455
         ],
         "yaxis": "y2"
        },
        {
         "line": {
          "color": "#5d4037",
          "width": 2
         },
         "mode": "lines",
         "name": "Train loss - Fold #4",
         "type": "scatter",
         "visible": "legendonly",
         "x": [
          0,
          1,
          2,
          3,
          4,
          5,
          6,
          7,
          8,
          9,
          10,
          11,
          12,
          13,
          14
         ],
         "xaxis": "x",
         "y": [
          0.1650562130189577,
          0.14819091817623645,
          0.13664787943230666,
          0.11909883888056655,
          0.13510045490884146,
          0.1450655800023223,
          0.13784973028871675,
          0.14128115193796206,
          0.11971424983768555,
          0.1519637062905173,
          0.14883210081568934,
          0.12587193115690692,
          0.10566747304029213,
          0.12763352513496504,
          0.1368734410574629
         ],
         "yaxis": "y"
        },
        {
         "line": {
          "color": "#8d6e63",
          "width": 2
         },
         "mode": "lines+markers",
         "name": "Valid loss - Fold #4",
         "type": "scatter",
         "visible": "legendonly",
         "x": [
          0,
          1,
          2,
          3,
          4,
          5,
          6,
          7,
          8,
          9,
          10,
          11,
          12,
          13,
          14
         ],
         "xaxis": "x",
         "y": [
          0.039628804196611106,
          0.026568419628611374,
          0.018199938520293443,
          0.03389205702490384,
          0.03518284913227563,
          0.0253588117230984,
          0.027839314943600084,
          0.025305998091015122,
          0.02804791200305185,
          0.04290958616184071,
          0.07132646910876277,
          0.0348670762895997,
          0.0502863479139764,
          0.06708577229461123,
          0.13521502897023194
         ],
         "yaxis": "y"
        },
        {
         "line": {
          "color": "#5d4037",
          "width": 2
         },
         "mode": "lines+markers",
         "name": "Valid score - Fold #4",
         "showlegend": false,
         "type": "scatter",
         "x": [
          0,
          1,
          2,
          3,
          4,
          5,
          6,
          7,
          8,
          9,
          10,
          11,
          12,
          13,
          14
         ],
         "xaxis": "x2",
         "y": [
          0.9997156115047982,
          0.9998778764010824,
          0.9999830194249039,
          0.9996812431749921,
          0.9998468583188926,
          0.9996939063159225,
          0.9994981686162908,
          0.9999226604732689,
          0.9998755253412288,
          0.9990900871486041,
          0.9987788943440744,
          0.9980829111273786,
          0.9985946800854919,
          0.9985743359268066,
          0.9978749174664304
         ],
         "yaxis": "y2"
        }
       ],
       "layout": {
        "annotations": [
         {
          "font": {
           "size": 16
          },
          "showarrow": false,
          "text": "Train / valid losses",
          "x": 0.225,
          "xanchor": "center",
          "xref": "paper",
          "y": 1,
          "yanchor": "bottom",
          "yref": "paper"
         },
         {
          "font": {
           "size": 16
          },
          "showarrow": false,
          "text": "Validation scores",
          "x": 0.775,
          "xanchor": "center",
          "xref": "paper",
          "y": 1,
          "yanchor": "bottom",
          "yref": "paper"
         }
        ],
        "template": {
         "data": {
          "bar": [
           {
            "error_x": {
             "color": "#2a3f5f"
            },
            "error_y": {
             "color": "#2a3f5f"
            },
            "marker": {
             "line": {
              "color": "#E5ECF6",
              "width": 0.5
             }
            },
            "type": "bar"
           }
          ],
          "barpolar": [
           {
            "marker": {
             "line": {
              "color": "#E5ECF6",
              "width": 0.5
             }
            },
            "type": "barpolar"
           }
          ],
          "carpet": [
           {
            "aaxis": {
             "endlinecolor": "#2a3f5f",
             "gridcolor": "white",
             "linecolor": "white",
             "minorgridcolor": "white",
             "startlinecolor": "#2a3f5f"
            },
            "baxis": {
             "endlinecolor": "#2a3f5f",
             "gridcolor": "white",
             "linecolor": "white",
             "minorgridcolor": "white",
             "startlinecolor": "#2a3f5f"
            },
            "type": "carpet"
           }
          ],
          "choropleth": [
           {
            "colorbar": {
             "outlinewidth": 0,
             "ticks": ""
            },
            "type": "choropleth"
           }
          ],
          "contour": [
           {
            "colorbar": {
             "outlinewidth": 0,
             "ticks": ""
            },
            "colorscale": [
             [
              0,
              "#0d0887"
             ],
             [
              0.1111111111111111,
              "#46039f"
             ],
             [
              0.2222222222222222,
              "#7201a8"
             ],
             [
              0.3333333333333333,
              "#9c179e"
             ],
             [
              0.4444444444444444,
              "#bd3786"
             ],
             [
              0.5555555555555556,
              "#d8576b"
             ],
             [
              0.6666666666666666,
              "#ed7953"
             ],
             [
              0.7777777777777778,
              "#fb9f3a"
             ],
             [
              0.8888888888888888,
              "#fdca26"
             ],
             [
              1,
              "#f0f921"
             ]
            ],
            "type": "contour"
           }
          ],
          "contourcarpet": [
           {
            "colorbar": {
             "outlinewidth": 0,
             "ticks": ""
            },
            "type": "contourcarpet"
           }
          ],
          "heatmap": [
           {
            "colorbar": {
             "outlinewidth": 0,
             "ticks": ""
            },
            "colorscale": [
             [
              0,
              "#0d0887"
             ],
             [
              0.1111111111111111,
              "#46039f"
             ],
             [
              0.2222222222222222,
              "#7201a8"
             ],
             [
              0.3333333333333333,
              "#9c179e"
             ],
             [
              0.4444444444444444,
              "#bd3786"
             ],
             [
              0.5555555555555556,
              "#d8576b"
             ],
             [
              0.6666666666666666,
              "#ed7953"
             ],
             [
              0.7777777777777778,
              "#fb9f3a"
             ],
             [
              0.8888888888888888,
              "#fdca26"
             ],
             [
              1,
              "#f0f921"
             ]
            ],
            "type": "heatmap"
           }
          ],
          "heatmapgl": [
           {
            "colorbar": {
             "outlinewidth": 0,
             "ticks": ""
            },
            "colorscale": [
             [
              0,
              "#0d0887"
             ],
             [
              0.1111111111111111,
              "#46039f"
             ],
             [
              0.2222222222222222,
              "#7201a8"
             ],
             [
              0.3333333333333333,
              "#9c179e"
             ],
             [
              0.4444444444444444,
              "#bd3786"
             ],
             [
              0.5555555555555556,
              "#d8576b"
             ],
             [
              0.6666666666666666,
              "#ed7953"
             ],
             [
              0.7777777777777778,
              "#fb9f3a"
             ],
             [
              0.8888888888888888,
              "#fdca26"
             ],
             [
              1,
              "#f0f921"
             ]
            ],
            "type": "heatmapgl"
           }
          ],
          "histogram": [
           {
            "marker": {
             "colorbar": {
              "outlinewidth": 0,
              "ticks": ""
             }
            },
            "type": "histogram"
           }
          ],
          "histogram2d": [
           {
            "colorbar": {
             "outlinewidth": 0,
             "ticks": ""
            },
            "colorscale": [
             [
              0,
              "#0d0887"
             ],
             [
              0.1111111111111111,
              "#46039f"
             ],
             [
              0.2222222222222222,
              "#7201a8"
             ],
             [
              0.3333333333333333,
              "#9c179e"
             ],
             [
              0.4444444444444444,
              "#bd3786"
             ],
             [
              0.5555555555555556,
              "#d8576b"
             ],
             [
              0.6666666666666666,
              "#ed7953"
             ],
             [
              0.7777777777777778,
              "#fb9f3a"
             ],
             [
              0.8888888888888888,
              "#fdca26"
             ],
             [
              1,
              "#f0f921"
             ]
            ],
            "type": "histogram2d"
           }
          ],
          "histogram2dcontour": [
           {
            "colorbar": {
             "outlinewidth": 0,
             "ticks": ""
            },
            "colorscale": [
             [
              0,
              "#0d0887"
             ],
             [
              0.1111111111111111,
              "#46039f"
             ],
             [
              0.2222222222222222,
              "#7201a8"
             ],
             [
              0.3333333333333333,
              "#9c179e"
             ],
             [
              0.4444444444444444,
              "#bd3786"
             ],
             [
              0.5555555555555556,
              "#d8576b"
             ],
             [
              0.6666666666666666,
              "#ed7953"
             ],
             [
              0.7777777777777778,
              "#fb9f3a"
             ],
             [
              0.8888888888888888,
              "#fdca26"
             ],
             [
              1,
              "#f0f921"
             ]
            ],
            "type": "histogram2dcontour"
           }
          ],
          "mesh3d": [
           {
            "colorbar": {
             "outlinewidth": 0,
             "ticks": ""
            },
            "type": "mesh3d"
           }
          ],
          "parcoords": [
           {
            "line": {
             "colorbar": {
              "outlinewidth": 0,
              "ticks": ""
             }
            },
            "type": "parcoords"
           }
          ],
          "pie": [
           {
            "automargin": true,
            "type": "pie"
           }
          ],
          "scatter": [
           {
            "marker": {
             "colorbar": {
              "outlinewidth": 0,
              "ticks": ""
             }
            },
            "type": "scatter"
           }
          ],
          "scatter3d": [
           {
            "line": {
             "colorbar": {
              "outlinewidth": 0,
              "ticks": ""
             }
            },
            "marker": {
             "colorbar": {
              "outlinewidth": 0,
              "ticks": ""
             }
            },
            "type": "scatter3d"
           }
          ],
          "scattercarpet": [
           {
            "marker": {
             "colorbar": {
              "outlinewidth": 0,
              "ticks": ""
             }
            },
            "type": "scattercarpet"
           }
          ],
          "scattergeo": [
           {
            "marker": {
             "colorbar": {
              "outlinewidth": 0,
              "ticks": ""
             }
            },
            "type": "scattergeo"
           }
          ],
          "scattergl": [
           {
            "marker": {
             "colorbar": {
              "outlinewidth": 0,
              "ticks": ""
             }
            },
            "type": "scattergl"
           }
          ],
          "scattermapbox": [
           {
            "marker": {
             "colorbar": {
              "outlinewidth": 0,
              "ticks": ""
             }
            },
            "type": "scattermapbox"
           }
          ],
          "scatterpolar": [
           {
            "marker": {
             "colorbar": {
              "outlinewidth": 0,
              "ticks": ""
             }
            },
            "type": "scatterpolar"
           }
          ],
          "scatterpolargl": [
           {
            "marker": {
             "colorbar": {
              "outlinewidth": 0,
              "ticks": ""
             }
            },
            "type": "scatterpolargl"
           }
          ],
          "scatterternary": [
           {
            "marker": {
             "colorbar": {
              "outlinewidth": 0,
              "ticks": ""
             }
            },
            "type": "scatterternary"
           }
          ],
          "surface": [
           {
            "colorbar": {
             "outlinewidth": 0,
             "ticks": ""
            },
            "colorscale": [
             [
              0,
              "#0d0887"
             ],
             [
              0.1111111111111111,
              "#46039f"
             ],
             [
              0.2222222222222222,
              "#7201a8"
             ],
             [
              0.3333333333333333,
              "#9c179e"
             ],
             [
              0.4444444444444444,
              "#bd3786"
             ],
             [
              0.5555555555555556,
              "#d8576b"
             ],
             [
              0.6666666666666666,
              "#ed7953"
             ],
             [
              0.7777777777777778,
              "#fb9f3a"
             ],
             [
              0.8888888888888888,
              "#fdca26"
             ],
             [
              1,
              "#f0f921"
             ]
            ],
            "type": "surface"
           }
          ],
          "table": [
           {
            "cells": {
             "fill": {
              "color": "#EBF0F8"
             },
             "line": {
              "color": "white"
             }
            },
            "header": {
             "fill": {
              "color": "#C8D4E3"
             },
             "line": {
              "color": "white"
             }
            },
            "type": "table"
           }
          ]
         },
         "layout": {
          "annotationdefaults": {
           "arrowcolor": "#2a3f5f",
           "arrowhead": 0,
           "arrowwidth": 1
          },
          "coloraxis": {
           "colorbar": {
            "outlinewidth": 0,
            "ticks": ""
           }
          },
          "colorscale": {
           "diverging": [
            [
             0,
             "#8e0152"
            ],
            [
             0.1,
             "#c51b7d"
            ],
            [
             0.2,
             "#de77ae"
            ],
            [
             0.3,
             "#f1b6da"
            ],
            [
             0.4,
             "#fde0ef"
            ],
            [
             0.5,
             "#f7f7f7"
            ],
            [
             0.6,
             "#e6f5d0"
            ],
            [
             0.7,
             "#b8e186"
            ],
            [
             0.8,
             "#7fbc41"
            ],
            [
             0.9,
             "#4d9221"
            ],
            [
             1,
             "#276419"
            ]
           ],
           "sequential": [
            [
             0,
             "#0d0887"
            ],
            [
             0.1111111111111111,
             "#46039f"
            ],
            [
             0.2222222222222222,
             "#7201a8"
            ],
            [
             0.3333333333333333,
             "#9c179e"
            ],
            [
             0.4444444444444444,
             "#bd3786"
            ],
            [
             0.5555555555555556,
             "#d8576b"
            ],
            [
             0.6666666666666666,
             "#ed7953"
            ],
            [
             0.7777777777777778,
             "#fb9f3a"
            ],
            [
             0.8888888888888888,
             "#fdca26"
            ],
            [
             1,
             "#f0f921"
            ]
           ],
           "sequentialminus": [
            [
             0,
             "#0d0887"
            ],
            [
             0.1111111111111111,
             "#46039f"
            ],
            [
             0.2222222222222222,
             "#7201a8"
            ],
            [
             0.3333333333333333,
             "#9c179e"
            ],
            [
             0.4444444444444444,
             "#bd3786"
            ],
            [
             0.5555555555555556,
             "#d8576b"
            ],
            [
             0.6666666666666666,
             "#ed7953"
            ],
            [
             0.7777777777777778,
             "#fb9f3a"
            ],
            [
             0.8888888888888888,
             "#fdca26"
            ],
            [
             1,
             "#f0f921"
            ]
           ]
          },
          "colorway": [
           "#636efa",
           "#EF553B",
           "#00cc96",
           "#ab63fa",
           "#FFA15A",
           "#19d3f3",
           "#FF6692",
           "#B6E880",
           "#FF97FF",
           "#FECB52"
          ],
          "font": {
           "color": "#2a3f5f"
          },
          "geo": {
           "bgcolor": "white",
           "lakecolor": "white",
           "landcolor": "#E5ECF6",
           "showlakes": true,
           "showland": true,
           "subunitcolor": "white"
          },
          "hoverlabel": {
           "align": "left"
          },
          "hovermode": "closest",
          "mapbox": {
           "style": "light"
          },
          "paper_bgcolor": "white",
          "plot_bgcolor": "#E5ECF6",
          "polar": {
           "angularaxis": {
            "gridcolor": "white",
            "linecolor": "white",
            "ticks": ""
           },
           "bgcolor": "#E5ECF6",
           "radialaxis": {
            "gridcolor": "white",
            "linecolor": "white",
            "ticks": ""
           }
          },
          "scene": {
           "xaxis": {
            "backgroundcolor": "#E5ECF6",
            "gridcolor": "white",
            "gridwidth": 2,
            "linecolor": "white",
            "showbackground": true,
            "ticks": "",
            "zerolinecolor": "white"
           },
           "yaxis": {
            "backgroundcolor": "#E5ECF6",
            "gridcolor": "white",
            "gridwidth": 2,
            "linecolor": "white",
            "showbackground": true,
            "ticks": "",
            "zerolinecolor": "white"
           },
           "zaxis": {
            "backgroundcolor": "#E5ECF6",
            "gridcolor": "white",
            "gridwidth": 2,
            "linecolor": "white",
            "showbackground": true,
            "ticks": "",
            "zerolinecolor": "white"
           }
          },
          "shapedefaults": {
           "line": {
            "color": "#2a3f5f"
           }
          },
          "ternary": {
           "aaxis": {
            "gridcolor": "white",
            "linecolor": "white",
            "ticks": ""
           },
           "baxis": {
            "gridcolor": "white",
            "linecolor": "white",
            "ticks": ""
           },
           "bgcolor": "#E5ECF6",
           "caxis": {
            "gridcolor": "white",
            "linecolor": "white",
            "ticks": ""
           }
          },
          "title": {
           "x": 0.05
          },
          "xaxis": {
           "automargin": true,
           "gridcolor": "white",
           "linecolor": "white",
           "ticks": "",
           "title": {
            "standoff": 15
           },
           "zerolinecolor": "white",
           "zerolinewidth": 2
          },
          "yaxis": {
           "automargin": true,
           "gridcolor": "white",
           "linecolor": "white",
           "ticks": "",
           "title": {
            "standoff": 15
           },
           "zerolinecolor": "white",
           "zerolinewidth": 2
          }
         }
        },
        "xaxis": {
         "anchor": "y",
         "domain": [
          0,
          1
         ]
        },
        "xaxis2": {
         "anchor": "y2",
         "domain": [
          0,
          1
         ]
        },
        "yaxis": {
         "anchor": "x",
         "domain": [
          0.575,
          1
         ]
        },
        "yaxis2": {
         "anchor": "x2",
         "domain": [
          0,
          0.425
         ]
        }
       }
      },
      "text/html": [
       "<div>\n",
       "        \n",
       "        \n",
       "            <div id=\"f7e059a0-5b67-4017-aa1a-87577a387bd3\" class=\"plotly-graph-div\" style=\"height:525px; width:100%;\"></div>\n",
       "            <script type=\"text/javascript\">\n",
       "                require([\"plotly\"], function(Plotly) {\n",
       "                    window.PLOTLYENV=window.PLOTLYENV || {};\n",
       "                    \n",
       "                if (document.getElementById(\"f7e059a0-5b67-4017-aa1a-87577a387bd3\")) {\n",
       "                    Plotly.newPlot(\n",
       "                        'f7e059a0-5b67-4017-aa1a-87577a387bd3',\n",
       "                        [{\"line\": {\"color\": \"#d32f2f\", \"width\": 2}, \"mode\": \"lines\", \"name\": \"Train loss - Fold #0\", \"type\": \"scatter\", \"visible\": true, \"x\": [0, 1, 2, 3, 4, 5, 6, 7, 8, 9, 10, 11, 12, 13, 14], \"xaxis\": \"x\", \"y\": [0.7034576145596192, 0.4546284916215256, 0.4162721541084227, 0.38533547935915774, 0.33139221994664336, 0.3426478043137515, 0.33704100109514645, 0.3515799086632543, 0.27490953017087255, 0.2657558788530162, 0.2910396652448861, 0.24039023824524683, 0.25547819450253345, 0.2698903845500995, 0.2538605470546201], \"yaxis\": \"y\"}, {\"line\": {\"color\": \"#ef5350\", \"width\": 2}, \"mode\": \"lines+markers\", \"name\": \"Valid loss - Fold #0\", \"type\": \"scatter\", \"visible\": true, \"x\": [0, 1, 2, 3, 4, 5, 6, 7, 8, 9, 10, 11, 12, 13, 14], \"xaxis\": \"x\", \"y\": [0.3053052766669181, 0.27065176462694523, 0.23250501248384675, 0.18990351109495085, 0.23121648945755535, 0.20371374130369194, 0.2111599560706846, 0.1983414997887467, 0.18747518390357013, 0.16707351139836735, 0.16617580392067471, 0.14979566319755488, 0.15838592935113177, 0.1590161740839962, 0.15069089523486554], \"yaxis\": \"y\"}, {\"line\": {\"color\": \"#d32f2f\", \"width\": 2}, \"mode\": \"lines+markers\", \"name\": \"Valid score - Fold #0\", \"showlegend\": false, \"type\": \"scatter\", \"x\": [0, 1, 2, 3, 4, 5, 6, 7, 8, 9, 10, 11, 12, 13, 14], \"xaxis\": \"x2\", \"y\": [0.9551841732485009, 0.9494475189777883, 0.9577972635075449, 0.9773661128490325, 0.9583053782636332, 0.9706549048033708, 0.9720091463767874, 0.972082649734152, 0.9704064169800201, 0.9790770898687333, 0.9823533965612007, 0.9789972645116799, 0.9761814798194073, 0.9699375677149068, 0.9856439792567673], \"yaxis\": \"y2\"}, {\"line\": {\"color\": \"#303f9f\", \"width\": 2}, \"mode\": \"lines\", \"name\": \"Train loss - Fold #1\", \"type\": \"scatter\", \"visible\": \"legendonly\", \"x\": [0, 1, 2, 3, 4, 5, 6, 7, 8, 9, 10, 11, 12, 13, 14], \"xaxis\": \"x\", \"y\": [0.27794547317946544, 0.26895967019019557, 0.250018284671375, 0.24282909859521468, 0.2283462496077428, 0.20305128760452643, 0.23041517718801977, 0.24218363053791347, 0.18900840199689883, 0.21291474739975128, 0.19752510529408446, 0.18613617824482137, 0.182834311350264, 0.19912826207267945, 0.1848336192779243], \"yaxis\": \"y\"}, {\"line\": {\"color\": \"#5c6bc0\", \"width\": 2}, \"mode\": \"lines+markers\", \"name\": \"Valid loss - Fold #1\", \"type\": \"scatter\", \"visible\": \"legendonly\", \"x\": [0, 1, 2, 3, 4, 5, 6, 7, 8, 9, 10, 11, 12, 13, 14], \"xaxis\": \"x\", \"y\": [0.16100943345396268, 0.1414629992908768, 0.13313971638619418, 0.13670337770975405, 0.09926012114831997, 0.1720056550036515, 0.141984291945494, 0.1734095857508721, 0.12426654612945934, 0.1608175106887375, 0.14301114337098214, 0.1574920066482117, 0.1791863981934805, 0.12817772542456946, 0.1340757511075466], \"yaxis\": \"y\"}, {\"line\": {\"color\": \"#303f9f\", \"width\": 2}, \"mode\": \"lines+markers\", \"name\": \"Valid score - Fold #1\", \"showlegend\": false, \"type\": \"scatter\", \"x\": [0, 1, 2, 3, 4, 5, 6, 7, 8, 9, 10, 11, 12, 13, 14], \"xaxis\": \"x2\", \"y\": [0.9852398685960296, 0.9853280643334978, 0.9914421357661715, 0.9736953858177291, 0.9882054627030434, 0.9750259801636311, 0.984590459953206, 0.9724958616938756, 0.9869008422830567, 0.9652959108048728, 0.975425304428899, 0.9754493771339147, 0.9674398873823863, 0.9811400397222897, 0.9809606740503014], \"yaxis\": \"y2\"}, {\"line\": {\"color\": \"#00796b\", \"width\": 2}, \"mode\": \"lines\", \"name\": \"Train loss - Fold #2\", \"type\": \"scatter\", \"visible\": \"legendonly\", \"x\": [0, 1, 2, 3, 4, 5, 6, 7, 8, 9, 10, 11, 12, 13, 14], \"xaxis\": \"x\", \"y\": [0.2007450031070802, 0.22033753685011973, 0.18641181664205478, 0.1887872474741374, 0.16113819511317204, 0.18386121215413279, 0.18290777716663528, 0.17220313356212172, 0.1937891494360615, 0.16470208454907673, 0.1764339461281407, 0.16841216343760368, 0.19024586750835668, 0.19314671445973827, 0.14756635536027493], \"yaxis\": \"y\"}, {\"line\": {\"color\": \"#26a69a\", \"width\": 2}, \"mode\": \"lines+markers\", \"name\": \"Valid loss - Fold #2\", \"type\": \"scatter\", \"visible\": \"legendonly\", \"x\": [0, 1, 2, 3, 4, 5, 6, 7, 8, 9, 10, 11, 12, 13, 14], \"xaxis\": \"x\", \"y\": [0.063316902581362, 0.050731427021204464, 0.062477309587261366, 0.07510226231909567, 0.05734399222438374, 0.055939886448604446, 0.08019842596484288, 0.06582493602388328, 0.07868677089291234, 0.07901477116730905, 0.0752042583340118, 0.08369474003331796, 0.06071322718484988, 0.06565375427805609, 0.08353720217823021], \"yaxis\": \"y\"}, {\"line\": {\"color\": \"#00796b\", \"width\": 2}, \"mode\": \"lines+markers\", \"name\": \"Valid score - Fold #2\", \"showlegend\": false, \"type\": \"scatter\", \"x\": [0, 1, 2, 3, 4, 5, 6, 7, 8, 9, 10, 11, 12, 13, 14], \"xaxis\": \"x2\", \"y\": [0.997569052113874, 0.9974773003551026, 0.9978702615515558, 0.9968242309826496, 0.9953597248281323, 0.9960196993781077, 0.9943181652084935, 0.993532561953985, 0.996215714567416, 0.9964855894290647, 0.9970394157499626, 0.9936248725718562, 0.9978260805943793, 0.9977674614624532, 0.9982304444736718], \"yaxis\": \"y2\"}, {\"line\": {\"color\": \"#fbc02d\", \"width\": 2}, \"mode\": \"lines\", \"name\": \"Train loss - Fold #3\", \"type\": \"scatter\", \"visible\": \"legendonly\", \"x\": [0, 1, 2, 3, 4, 5, 6, 7, 8, 9, 10, 11, 12, 13, 14], \"xaxis\": \"x\", \"y\": [0.20917466916830935, 0.15754965401147722, 0.17940495067016513, 0.17624229174412664, 0.14788201076864096, 0.1514739074713749, 0.15704212892708963, 0.15013044824457314, 0.140366280962881, 0.1436303235040825, 0.15181725848939454, 0.14320807356662194, 0.14938687839255224, 0.14885436253217582, 0.14534163596795596], \"yaxis\": \"y\"}, {\"line\": {\"color\": \"#ffeb3b\", \"width\": 2}, \"mode\": \"lines+markers\", \"name\": \"Valid loss - Fold #3\", \"type\": \"scatter\", \"visible\": \"legendonly\", \"x\": [0, 1, 2, 3, 4, 5, 6, 7, 8, 9, 10, 11, 12, 13, 14], \"xaxis\": \"x\", \"y\": [0.01901735993657982, 0.028138742113726273, 0.02636314556002617, 0.021721067173676865, 0.03342421967235784, 0.04995381780299208, 0.024330248350217458, 0.06324725795064061, 0.051314893726920406, 0.0641272134155095, 0.04713596873766472, 0.03238532351773052, 0.06997613876967901, 0.0702325078065417, 0.06774717534051067], \"yaxis\": \"y\"}, {\"line\": {\"color\": \"#fbc02d\", \"width\": 2}, \"mode\": \"lines+markers\", \"name\": \"Valid score - Fold #3\", \"showlegend\": false, \"type\": \"scatter\", \"x\": [0, 1, 2, 3, 4, 5, 6, 7, 8, 9, 10, 11, 12, 13, 14], \"xaxis\": \"x2\", \"y\": [1.0, 0.9999018594688771, 0.9998795761078998, 0.999951246328374, 0.9998852679082292, 0.9999002075926927, 0.9999197174052665, 0.9991775148925611, 0.999255449934145, 0.9987010701009644, 0.9989230435824658, 0.9997400660764757, 0.999171516334911, 0.9991897076669123, 0.9991844152235455], \"yaxis\": \"y2\"}, {\"line\": {\"color\": \"#5d4037\", \"width\": 2}, \"mode\": \"lines\", \"name\": \"Train loss - Fold #4\", \"type\": \"scatter\", \"visible\": \"legendonly\", \"x\": [0, 1, 2, 3, 4, 5, 6, 7, 8, 9, 10, 11, 12, 13, 14], \"xaxis\": \"x\", \"y\": [0.1650562130189577, 0.14819091817623645, 0.13664787943230666, 0.11909883888056655, 0.13510045490884146, 0.1450655800023223, 0.13784973028871675, 0.14128115193796206, 0.11971424983768555, 0.1519637062905173, 0.14883210081568934, 0.12587193115690692, 0.10566747304029213, 0.12763352513496504, 0.1368734410574629], \"yaxis\": \"y\"}, {\"line\": {\"color\": \"#8d6e63\", \"width\": 2}, \"mode\": \"lines+markers\", \"name\": \"Valid loss - Fold #4\", \"type\": \"scatter\", \"visible\": \"legendonly\", \"x\": [0, 1, 2, 3, 4, 5, 6, 7, 8, 9, 10, 11, 12, 13, 14], \"xaxis\": \"x\", \"y\": [0.039628804196611106, 0.026568419628611374, 0.018199938520293443, 0.03389205702490384, 0.03518284913227563, 0.0253588117230984, 0.027839314943600084, 0.025305998091015122, 0.02804791200305185, 0.04290958616184071, 0.07132646910876277, 0.0348670762895997, 0.0502863479139764, 0.06708577229461123, 0.13521502897023194], \"yaxis\": \"y\"}, {\"line\": {\"color\": \"#5d4037\", \"width\": 2}, \"mode\": \"lines+markers\", \"name\": \"Valid score - Fold #4\", \"showlegend\": false, \"type\": \"scatter\", \"x\": [0, 1, 2, 3, 4, 5, 6, 7, 8, 9, 10, 11, 12, 13, 14], \"xaxis\": \"x2\", \"y\": [0.9997156115047982, 0.9998778764010824, 0.9999830194249039, 0.9996812431749921, 0.9998468583188926, 0.9996939063159225, 0.9994981686162908, 0.9999226604732689, 0.9998755253412288, 0.9990900871486041, 0.9987788943440744, 0.9980829111273786, 0.9985946800854919, 0.9985743359268066, 0.9978749174664304], \"yaxis\": \"y2\"}],\n",
       "                        {\"annotations\": [{\"font\": {\"size\": 16}, \"showarrow\": false, \"text\": \"Train / valid losses\", \"x\": 0.225, \"xanchor\": \"center\", \"xref\": \"paper\", \"y\": 1.0, \"yanchor\": \"bottom\", \"yref\": \"paper\"}, {\"font\": {\"size\": 16}, \"showarrow\": false, \"text\": \"Validation scores\", \"x\": 0.775, \"xanchor\": \"center\", \"xref\": \"paper\", \"y\": 1.0, \"yanchor\": \"bottom\", \"yref\": \"paper\"}], \"template\": {\"data\": {\"bar\": [{\"error_x\": {\"color\": \"#2a3f5f\"}, \"error_y\": {\"color\": \"#2a3f5f\"}, \"marker\": {\"line\": {\"color\": \"#E5ECF6\", \"width\": 0.5}}, \"type\": \"bar\"}], \"barpolar\": [{\"marker\": {\"line\": {\"color\": \"#E5ECF6\", \"width\": 0.5}}, \"type\": \"barpolar\"}], \"carpet\": [{\"aaxis\": {\"endlinecolor\": \"#2a3f5f\", \"gridcolor\": \"white\", \"linecolor\": \"white\", \"minorgridcolor\": \"white\", \"startlinecolor\": \"#2a3f5f\"}, \"baxis\": {\"endlinecolor\": \"#2a3f5f\", \"gridcolor\": \"white\", \"linecolor\": \"white\", \"minorgridcolor\": \"white\", \"startlinecolor\": \"#2a3f5f\"}, \"type\": \"carpet\"}], \"choropleth\": [{\"colorbar\": {\"outlinewidth\": 0, \"ticks\": \"\"}, \"type\": \"choropleth\"}], \"contour\": [{\"colorbar\": {\"outlinewidth\": 0, \"ticks\": \"\"}, \"colorscale\": [[0.0, \"#0d0887\"], [0.1111111111111111, \"#46039f\"], [0.2222222222222222, \"#7201a8\"], [0.3333333333333333, \"#9c179e\"], [0.4444444444444444, \"#bd3786\"], [0.5555555555555556, \"#d8576b\"], [0.6666666666666666, \"#ed7953\"], [0.7777777777777778, \"#fb9f3a\"], [0.8888888888888888, \"#fdca26\"], [1.0, \"#f0f921\"]], \"type\": \"contour\"}], \"contourcarpet\": [{\"colorbar\": {\"outlinewidth\": 0, \"ticks\": \"\"}, \"type\": \"contourcarpet\"}], \"heatmap\": [{\"colorbar\": {\"outlinewidth\": 0, \"ticks\": \"\"}, \"colorscale\": [[0.0, \"#0d0887\"], [0.1111111111111111, \"#46039f\"], [0.2222222222222222, \"#7201a8\"], [0.3333333333333333, \"#9c179e\"], [0.4444444444444444, \"#bd3786\"], [0.5555555555555556, \"#d8576b\"], [0.6666666666666666, \"#ed7953\"], [0.7777777777777778, \"#fb9f3a\"], [0.8888888888888888, \"#fdca26\"], [1.0, \"#f0f921\"]], \"type\": \"heatmap\"}], \"heatmapgl\": [{\"colorbar\": {\"outlinewidth\": 0, \"ticks\": \"\"}, \"colorscale\": [[0.0, \"#0d0887\"], [0.1111111111111111, \"#46039f\"], [0.2222222222222222, \"#7201a8\"], [0.3333333333333333, \"#9c179e\"], [0.4444444444444444, \"#bd3786\"], [0.5555555555555556, \"#d8576b\"], [0.6666666666666666, \"#ed7953\"], [0.7777777777777778, \"#fb9f3a\"], [0.8888888888888888, \"#fdca26\"], [1.0, \"#f0f921\"]], \"type\": \"heatmapgl\"}], \"histogram\": [{\"marker\": {\"colorbar\": {\"outlinewidth\": 0, \"ticks\": \"\"}}, \"type\": \"histogram\"}], \"histogram2d\": [{\"colorbar\": {\"outlinewidth\": 0, \"ticks\": \"\"}, \"colorscale\": [[0.0, \"#0d0887\"], [0.1111111111111111, \"#46039f\"], [0.2222222222222222, \"#7201a8\"], [0.3333333333333333, \"#9c179e\"], [0.4444444444444444, \"#bd3786\"], [0.5555555555555556, \"#d8576b\"], [0.6666666666666666, \"#ed7953\"], [0.7777777777777778, \"#fb9f3a\"], [0.8888888888888888, \"#fdca26\"], [1.0, \"#f0f921\"]], \"type\": \"histogram2d\"}], \"histogram2dcontour\": [{\"colorbar\": {\"outlinewidth\": 0, \"ticks\": \"\"}, \"colorscale\": [[0.0, \"#0d0887\"], [0.1111111111111111, \"#46039f\"], [0.2222222222222222, \"#7201a8\"], [0.3333333333333333, \"#9c179e\"], [0.4444444444444444, \"#bd3786\"], [0.5555555555555556, \"#d8576b\"], [0.6666666666666666, \"#ed7953\"], [0.7777777777777778, \"#fb9f3a\"], [0.8888888888888888, \"#fdca26\"], [1.0, \"#f0f921\"]], \"type\": \"histogram2dcontour\"}], \"mesh3d\": [{\"colorbar\": {\"outlinewidth\": 0, \"ticks\": \"\"}, \"type\": \"mesh3d\"}], \"parcoords\": [{\"line\": {\"colorbar\": {\"outlinewidth\": 0, \"ticks\": \"\"}}, \"type\": \"parcoords\"}], \"pie\": [{\"automargin\": true, \"type\": \"pie\"}], \"scatter\": [{\"marker\": {\"colorbar\": {\"outlinewidth\": 0, \"ticks\": \"\"}}, \"type\": \"scatter\"}], \"scatter3d\": [{\"line\": {\"colorbar\": {\"outlinewidth\": 0, \"ticks\": \"\"}}, \"marker\": {\"colorbar\": {\"outlinewidth\": 0, \"ticks\": \"\"}}, \"type\": \"scatter3d\"}], \"scattercarpet\": [{\"marker\": {\"colorbar\": {\"outlinewidth\": 0, \"ticks\": \"\"}}, \"type\": \"scattercarpet\"}], \"scattergeo\": [{\"marker\": {\"colorbar\": {\"outlinewidth\": 0, \"ticks\": \"\"}}, \"type\": \"scattergeo\"}], \"scattergl\": [{\"marker\": {\"colorbar\": {\"outlinewidth\": 0, \"ticks\": \"\"}}, \"type\": \"scattergl\"}], \"scattermapbox\": [{\"marker\": {\"colorbar\": {\"outlinewidth\": 0, \"ticks\": \"\"}}, \"type\": \"scattermapbox\"}], \"scatterpolar\": [{\"marker\": {\"colorbar\": {\"outlinewidth\": 0, \"ticks\": \"\"}}, \"type\": \"scatterpolar\"}], \"scatterpolargl\": [{\"marker\": {\"colorbar\": {\"outlinewidth\": 0, \"ticks\": \"\"}}, \"type\": \"scatterpolargl\"}], \"scatterternary\": [{\"marker\": {\"colorbar\": {\"outlinewidth\": 0, \"ticks\": \"\"}}, \"type\": \"scatterternary\"}], \"surface\": [{\"colorbar\": {\"outlinewidth\": 0, \"ticks\": \"\"}, \"colorscale\": [[0.0, \"#0d0887\"], [0.1111111111111111, \"#46039f\"], [0.2222222222222222, \"#7201a8\"], [0.3333333333333333, \"#9c179e\"], [0.4444444444444444, \"#bd3786\"], [0.5555555555555556, \"#d8576b\"], [0.6666666666666666, \"#ed7953\"], [0.7777777777777778, \"#fb9f3a\"], [0.8888888888888888, \"#fdca26\"], [1.0, \"#f0f921\"]], \"type\": \"surface\"}], \"table\": [{\"cells\": {\"fill\": {\"color\": \"#EBF0F8\"}, \"line\": {\"color\": \"white\"}}, \"header\": {\"fill\": {\"color\": \"#C8D4E3\"}, \"line\": {\"color\": \"white\"}}, \"type\": \"table\"}]}, \"layout\": {\"annotationdefaults\": {\"arrowcolor\": \"#2a3f5f\", \"arrowhead\": 0, \"arrowwidth\": 1}, \"coloraxis\": {\"colorbar\": {\"outlinewidth\": 0, \"ticks\": \"\"}}, \"colorscale\": {\"diverging\": [[0, \"#8e0152\"], [0.1, \"#c51b7d\"], [0.2, \"#de77ae\"], [0.3, \"#f1b6da\"], [0.4, \"#fde0ef\"], [0.5, \"#f7f7f7\"], [0.6, \"#e6f5d0\"], [0.7, \"#b8e186\"], [0.8, \"#7fbc41\"], [0.9, \"#4d9221\"], [1, \"#276419\"]], \"sequential\": [[0.0, \"#0d0887\"], [0.1111111111111111, \"#46039f\"], [0.2222222222222222, \"#7201a8\"], [0.3333333333333333, \"#9c179e\"], [0.4444444444444444, \"#bd3786\"], [0.5555555555555556, \"#d8576b\"], [0.6666666666666666, \"#ed7953\"], [0.7777777777777778, \"#fb9f3a\"], [0.8888888888888888, \"#fdca26\"], [1.0, \"#f0f921\"]], \"sequentialminus\": [[0.0, \"#0d0887\"], [0.1111111111111111, \"#46039f\"], [0.2222222222222222, \"#7201a8\"], [0.3333333333333333, \"#9c179e\"], [0.4444444444444444, \"#bd3786\"], [0.5555555555555556, \"#d8576b\"], [0.6666666666666666, \"#ed7953\"], [0.7777777777777778, \"#fb9f3a\"], [0.8888888888888888, \"#fdca26\"], [1.0, \"#f0f921\"]]}, \"colorway\": [\"#636efa\", \"#EF553B\", \"#00cc96\", \"#ab63fa\", \"#FFA15A\", \"#19d3f3\", \"#FF6692\", \"#B6E880\", \"#FF97FF\", \"#FECB52\"], \"font\": {\"color\": \"#2a3f5f\"}, \"geo\": {\"bgcolor\": \"white\", \"lakecolor\": \"white\", \"landcolor\": \"#E5ECF6\", \"showlakes\": true, \"showland\": true, \"subunitcolor\": \"white\"}, \"hoverlabel\": {\"align\": \"left\"}, \"hovermode\": \"closest\", \"mapbox\": {\"style\": \"light\"}, \"paper_bgcolor\": \"white\", \"plot_bgcolor\": \"#E5ECF6\", \"polar\": {\"angularaxis\": {\"gridcolor\": \"white\", \"linecolor\": \"white\", \"ticks\": \"\"}, \"bgcolor\": \"#E5ECF6\", \"radialaxis\": {\"gridcolor\": \"white\", \"linecolor\": \"white\", \"ticks\": \"\"}}, \"scene\": {\"xaxis\": {\"backgroundcolor\": \"#E5ECF6\", \"gridcolor\": \"white\", \"gridwidth\": 2, \"linecolor\": \"white\", \"showbackground\": true, \"ticks\": \"\", \"zerolinecolor\": \"white\"}, \"yaxis\": {\"backgroundcolor\": \"#E5ECF6\", \"gridcolor\": \"white\", \"gridwidth\": 2, \"linecolor\": \"white\", \"showbackground\": true, \"ticks\": \"\", \"zerolinecolor\": \"white\"}, \"zaxis\": {\"backgroundcolor\": \"#E5ECF6\", \"gridcolor\": \"white\", \"gridwidth\": 2, \"linecolor\": \"white\", \"showbackground\": true, \"ticks\": \"\", \"zerolinecolor\": \"white\"}}, \"shapedefaults\": {\"line\": {\"color\": \"#2a3f5f\"}}, \"ternary\": {\"aaxis\": {\"gridcolor\": \"white\", \"linecolor\": \"white\", \"ticks\": \"\"}, \"baxis\": {\"gridcolor\": \"white\", \"linecolor\": \"white\", \"ticks\": \"\"}, \"bgcolor\": \"#E5ECF6\", \"caxis\": {\"gridcolor\": \"white\", \"linecolor\": \"white\", \"ticks\": \"\"}}, \"title\": {\"x\": 0.05}, \"xaxis\": {\"automargin\": true, \"gridcolor\": \"white\", \"linecolor\": \"white\", \"ticks\": \"\", \"title\": {\"standoff\": 15}, \"zerolinecolor\": \"white\", \"zerolinewidth\": 2}, \"yaxis\": {\"automargin\": true, \"gridcolor\": \"white\", \"linecolor\": \"white\", \"ticks\": \"\", \"title\": {\"standoff\": 15}, \"zerolinecolor\": \"white\", \"zerolinewidth\": 2}}}, \"xaxis\": {\"anchor\": \"y\", \"domain\": [0.0, 1.0]}, \"xaxis2\": {\"anchor\": \"y2\", \"domain\": [0.0, 1.0]}, \"yaxis\": {\"anchor\": \"x\", \"domain\": [0.575, 1.0]}, \"yaxis2\": {\"anchor\": \"x2\", \"domain\": [0.0, 0.425]}},\n",
       "                        {\"responsive\": true}\n",
       "                    ).then(function(){\n",
       "                            \n",
       "var gd = document.getElementById('f7e059a0-5b67-4017-aa1a-87577a387bd3');\n",
       "var x = new MutationObserver(function (mutations, observer) {{\n",
       "        var display = window.getComputedStyle(gd).display;\n",
       "        if (!display || display === 'none') {{\n",
       "            console.log([gd, 'removed!']);\n",
       "            Plotly.purge(gd);\n",
       "            observer.disconnect();\n",
       "        }}\n",
       "}});\n",
       "\n",
       "// Listen for the removal of the full notebook cells\n",
       "var notebookContainer = gd.closest('#notebook-container');\n",
       "if (notebookContainer) {{\n",
       "    x.observe(notebookContainer, {childList: true});\n",
       "}}\n",
       "\n",
       "// Listen for the clearing of the current output cell\n",
       "var outputEl = gd.closest('.output');\n",
       "if (outputEl) {{\n",
       "    x.observe(outputEl, {childList: true});\n",
       "}}\n",
       "\n",
       "                        })\n",
       "                };\n",
       "                });\n",
       "            </script>\n",
       "        </div>"
      ]
     },
     "metadata": {},
     "output_type": "display_data"
    }
   ],
   "source": [
    "fig = make_subplots(rows=2, cols=1)\n",
    "\n",
    "colors = [\n",
    "    ('#d32f2f', '#ef5350'),\n",
    "    ('#303f9f', '#5c6bc0'),\n",
    "    ('#00796b', '#26a69a'),\n",
    "    ('#fbc02d', '#ffeb3b'),\n",
    "    ('#5d4037', '#8d6e63'),\n",
    "]\n",
    "\n",
    "for k in models:\n",
    "    \n",
    "    for i in range(N_FOLDS):\n",
    "        data = train_results[train_results['fold'] == i]\n",
    "\n",
    "        fig.add_trace(go.Scatter(x=data['epoch'].values,\n",
    "                                 y=data['train_loss'].values,\n",
    "                                 mode='lines',\n",
    "                                 visible='legendonly' if i > 0 else True,\n",
    "                                 line=dict(color=colors[i][0], width=2),\n",
    "                                 name='Train loss - Fold #{}'.format(i)),\n",
    "                     row=1, col=1)\n",
    "\n",
    "        fig.add_trace(go.Scatter(x=data['epoch'],\n",
    "                                 y=data['valid_loss'].values,\n",
    "                                 mode='lines+markers',\n",
    "                                 visible='legendonly' if i > 0 else True,\n",
    "                                 line=dict(color=colors[i][1], width=2),\n",
    "                                 name='Valid loss - Fold #{}'.format(i)),\n",
    "                     row=1, col=1)\n",
    "\n",
    "        fig.add_trace(go.Scatter(x=data['epoch'].values,\n",
    "                                 y=data['valid_score'].values,\n",
    "                                 mode='lines+markers',\n",
    "                                 line=dict(color=colors[i][0], width=2),\n",
    "                                 name='Valid score - Fold #{}'.format(i),\n",
    "                                 showlegend=False),\n",
    "                     row=2, col=1)\n",
    "\n",
    "fig.update_layout({\n",
    "  \"annotations\": [\n",
    "    {\n",
    "      \"x\": 0.225, \n",
    "      \"y\": 1.0, \n",
    "      \"font\": {\"size\": 16}, \n",
    "      \"text\": \"Train / valid losses\", \n",
    "      \"xref\": \"paper\", \n",
    "      \"yref\": \"paper\", \n",
    "      \"xanchor\": \"center\", \n",
    "      \"yanchor\": \"bottom\", \n",
    "      \"showarrow\": False\n",
    "    }, \n",
    "    {\n",
    "      \"x\": 0.775, \n",
    "      \"y\": 1.0, \n",
    "      \"font\": {\"size\": 16}, \n",
    "      \"text\": \"Validation scores\", \n",
    "      \"xref\": \"paper\", \n",
    "      \"yref\": \"paper\", \n",
    "      \"xanchor\": \"center\", \n",
    "      \"yanchor\": \"bottom\", \n",
    "      \"showarrow\": False\n",
    "    }, \n",
    "  ]\n",
    "})\n",
    "\n",
    "fig.show()"
   ]
  },
  {
   "cell_type": "markdown",
   "metadata": {},
   "source": [
    "# Generate submission"
   ]
  },
  {
   "cell_type": "code",
   "execution_count": 16,
   "metadata": {},
   "outputs": [],
   "source": [
    "submission_df[['healthy', 'multiple_diseases', 'rust', 'scab']] = torch.softmax(submissions, dim=1)\n",
    "submission_df.to_csv('submission.csv', index=False)"
   ]
  },
  {
   "cell_type": "code",
   "execution_count": 17,
   "metadata": {},
   "outputs": [
    {
     "data": {
      "text/html": [
       "<div>\n",
       "<style scoped>\n",
       "    .dataframe tbody tr th:only-of-type {\n",
       "        vertical-align: middle;\n",
       "    }\n",
       "\n",
       "    .dataframe tbody tr th {\n",
       "        vertical-align: top;\n",
       "    }\n",
       "\n",
       "    .dataframe thead th {\n",
       "        text-align: right;\n",
       "    }\n",
       "</style>\n",
       "<table border=\"1\" class=\"dataframe\">\n",
       "  <thead>\n",
       "    <tr style=\"text-align: right;\">\n",
       "      <th></th>\n",
       "      <th>image_id</th>\n",
       "      <th>healthy</th>\n",
       "      <th>multiple_diseases</th>\n",
       "      <th>rust</th>\n",
       "      <th>scab</th>\n",
       "    </tr>\n",
       "  </thead>\n",
       "  <tbody>\n",
       "    <tr>\n",
       "      <th>0</th>\n",
       "      <td>Test_0</td>\n",
       "      <td>2.786740e-06</td>\n",
       "      <td>0.338050</td>\n",
       "      <td>0.661875</td>\n",
       "      <td>0.000072</td>\n",
       "    </tr>\n",
       "    <tr>\n",
       "      <th>1</th>\n",
       "      <td>Test_1</td>\n",
       "      <td>3.807185e-05</td>\n",
       "      <td>0.044647</td>\n",
       "      <td>0.953531</td>\n",
       "      <td>0.001783</td>\n",
       "    </tr>\n",
       "    <tr>\n",
       "      <th>2</th>\n",
       "      <td>Test_2</td>\n",
       "      <td>3.421972e-06</td>\n",
       "      <td>0.000059</td>\n",
       "      <td>0.000010</td>\n",
       "      <td>0.999927</td>\n",
       "    </tr>\n",
       "    <tr>\n",
       "      <th>3</th>\n",
       "      <td>Test_3</td>\n",
       "      <td>9.920746e-01</td>\n",
       "      <td>0.000012</td>\n",
       "      <td>0.007582</td>\n",
       "      <td>0.000331</td>\n",
       "    </tr>\n",
       "    <tr>\n",
       "      <th>4</th>\n",
       "      <td>Test_4</td>\n",
       "      <td>1.356204e-09</td>\n",
       "      <td>0.001099</td>\n",
       "      <td>0.998897</td>\n",
       "      <td>0.000004</td>\n",
       "    </tr>\n",
       "    <tr>\n",
       "      <th>...</th>\n",
       "      <td>...</td>\n",
       "      <td>...</td>\n",
       "      <td>...</td>\n",
       "      <td>...</td>\n",
       "      <td>...</td>\n",
       "    </tr>\n",
       "    <tr>\n",
       "      <th>1816</th>\n",
       "      <td>Test_1816</td>\n",
       "      <td>1.474522e-07</td>\n",
       "      <td>0.001901</td>\n",
       "      <td>0.998086</td>\n",
       "      <td>0.000013</td>\n",
       "    </tr>\n",
       "    <tr>\n",
       "      <th>1817</th>\n",
       "      <td>Test_1817</td>\n",
       "      <td>2.455675e-01</td>\n",
       "      <td>0.265647</td>\n",
       "      <td>0.009253</td>\n",
       "      <td>0.479532</td>\n",
       "    </tr>\n",
       "    <tr>\n",
       "      <th>1818</th>\n",
       "      <td>Test_1818</td>\n",
       "      <td>4.602588e-04</td>\n",
       "      <td>0.068725</td>\n",
       "      <td>0.930749</td>\n",
       "      <td>0.000066</td>\n",
       "    </tr>\n",
       "    <tr>\n",
       "      <th>1819</th>\n",
       "      <td>Test_1819</td>\n",
       "      <td>9.994057e-01</td>\n",
       "      <td>0.000068</td>\n",
       "      <td>0.000057</td>\n",
       "      <td>0.000469</td>\n",
       "    </tr>\n",
       "    <tr>\n",
       "      <th>1820</th>\n",
       "      <td>Test_1820</td>\n",
       "      <td>2.155294e-03</td>\n",
       "      <td>0.049685</td>\n",
       "      <td>0.000522</td>\n",
       "      <td>0.947638</td>\n",
       "    </tr>\n",
       "  </tbody>\n",
       "</table>\n",
       "<p>1821 rows × 5 columns</p>\n",
       "</div>"
      ],
      "text/plain": [
       "       image_id       healthy  multiple_diseases      rust      scab\n",
       "0        Test_0  2.786740e-06           0.338050  0.661875  0.000072\n",
       "1        Test_1  3.807185e-05           0.044647  0.953531  0.001783\n",
       "2        Test_2  3.421972e-06           0.000059  0.000010  0.999927\n",
       "3        Test_3  9.920746e-01           0.000012  0.007582  0.000331\n",
       "4        Test_4  1.356204e-09           0.001099  0.998897  0.000004\n",
       "...         ...           ...                ...       ...       ...\n",
       "1816  Test_1816  1.474522e-07           0.001901  0.998086  0.000013\n",
       "1817  Test_1817  2.455675e-01           0.265647  0.009253  0.479532\n",
       "1818  Test_1818  4.602588e-04           0.068725  0.930749  0.000066\n",
       "1819  Test_1819  9.994057e-01           0.000068  0.000057  0.000469\n",
       "1820  Test_1820  2.155294e-03           0.049685  0.000522  0.947638\n",
       "\n",
       "[1821 rows x 5 columns]"
      ]
     },
     "execution_count": 17,
     "metadata": {},
     "output_type": "execute_result"
    }
   ],
   "source": [
    "submission_df"
   ]
  },
  {
   "cell_type": "code",
   "execution_count": null,
   "metadata": {},
   "outputs": [],
   "source": []
  }
 ],
 "metadata": {
  "kernelspec": {
   "display_name": "Python 3",
   "language": "python",
   "name": "python3"
  },
  "language_info": {
   "codemirror_mode": {
    "name": "ipython",
    "version": 3
   },
   "file_extension": ".py",
   "mimetype": "text/x-python",
   "name": "python",
   "nbconvert_exporter": "python",
   "pygments_lexer": "ipython3",
   "version": "3.7.4"
  },
  "widgets": {
   "application/vnd.jupyter.widget-state+json": {
    "state": {
     "0e167c03adda4d7f87d9d9c16eab5b8f": {
      "model_module": "@jupyter-widgets/controls",
      "model_module_version": "1.5.0",
      "model_name": "HTMLModel",
      "state": {
       "_dom_classes": [],
       "_model_module": "@jupyter-widgets/controls",
       "_model_module_version": "1.5.0",
       "_model_name": "HTMLModel",
       "_view_count": null,
       "_view_module": "@jupyter-widgets/controls",
       "_view_module_version": "1.5.0",
       "_view_name": "HTMLView",
       "description": "",
       "description_tooltip": null,
       "layout": "IPY_MODEL_2d126f5c640e47e09150ca70d932a61b",
       "placeholder": "​",
       "style": "IPY_MODEL_ce1288ff28ee4cad8abc5897f4756efe",
       "value": " 44.7M/44.7M [00:00&lt;00:00, 77.8MB/s]"
      }
     },
     "2d126f5c640e47e09150ca70d932a61b": {
      "model_module": "@jupyter-widgets/base",
      "model_module_version": "1.2.0",
      "model_name": "LayoutModel",
      "state": {
       "_model_module": "@jupyter-widgets/base",
       "_model_module_version": "1.2.0",
       "_model_name": "LayoutModel",
       "_view_count": null,
       "_view_module": "@jupyter-widgets/base",
       "_view_module_version": "1.2.0",
       "_view_name": "LayoutView",
       "align_content": null,
       "align_items": null,
       "align_self": null,
       "border": null,
       "bottom": null,
       "display": null,
       "flex": null,
       "flex_flow": null,
       "grid_area": null,
       "grid_auto_columns": null,
       "grid_auto_flow": null,
       "grid_auto_rows": null,
       "grid_column": null,
       "grid_gap": null,
       "grid_row": null,
       "grid_template_areas": null,
       "grid_template_columns": null,
       "grid_template_rows": null,
       "height": null,
       "justify_content": null,
       "justify_items": null,
       "left": null,
       "margin": null,
       "max_height": null,
       "max_width": null,
       "min_height": null,
       "min_width": null,
       "object_fit": null,
       "object_position": null,
       "order": null,
       "overflow": null,
       "overflow_x": null,
       "overflow_y": null,
       "padding": null,
       "right": null,
       "top": null,
       "visibility": null,
       "width": null
      }
     },
     "429a75982ddb4fdd884ca0ef19375f0d": {
      "model_module": "@jupyter-widgets/controls",
      "model_module_version": "1.5.0",
      "model_name": "ProgressStyleModel",
      "state": {
       "_model_module": "@jupyter-widgets/controls",
       "_model_module_version": "1.5.0",
       "_model_name": "ProgressStyleModel",
       "_view_count": null,
       "_view_module": "@jupyter-widgets/base",
       "_view_module_version": "1.2.0",
       "_view_name": "StyleView",
       "bar_color": null,
       "description_width": "initial"
      }
     },
     "a5534748d08048cda39d7b5c63bbff39": {
      "model_module": "@jupyter-widgets/base",
      "model_module_version": "1.2.0",
      "model_name": "LayoutModel",
      "state": {
       "_model_module": "@jupyter-widgets/base",
       "_model_module_version": "1.2.0",
       "_model_name": "LayoutModel",
       "_view_count": null,
       "_view_module": "@jupyter-widgets/base",
       "_view_module_version": "1.2.0",
       "_view_name": "LayoutView",
       "align_content": null,
       "align_items": null,
       "align_self": null,
       "border": null,
       "bottom": null,
       "display": null,
       "flex": null,
       "flex_flow": null,
       "grid_area": null,
       "grid_auto_columns": null,
       "grid_auto_flow": null,
       "grid_auto_rows": null,
       "grid_column": null,
       "grid_gap": null,
       "grid_row": null,
       "grid_template_areas": null,
       "grid_template_columns": null,
       "grid_template_rows": null,
       "height": null,
       "justify_content": null,
       "justify_items": null,
       "left": null,
       "margin": null,
       "max_height": null,
       "max_width": null,
       "min_height": null,
       "min_width": null,
       "object_fit": null,
       "object_position": null,
       "order": null,
       "overflow": null,
       "overflow_x": null,
       "overflow_y": null,
       "padding": null,
       "right": null,
       "top": null,
       "visibility": null,
       "width": null
      }
     },
     "ce1288ff28ee4cad8abc5897f4756efe": {
      "model_module": "@jupyter-widgets/controls",
      "model_module_version": "1.5.0",
      "model_name": "DescriptionStyleModel",
      "state": {
       "_model_module": "@jupyter-widgets/controls",
       "_model_module_version": "1.5.0",
       "_model_name": "DescriptionStyleModel",
       "_view_count": null,
       "_view_module": "@jupyter-widgets/base",
       "_view_module_version": "1.2.0",
       "_view_name": "StyleView",
       "description_width": ""
      }
     },
     "ce99d53411e44a3c8c0d0e1112594783": {
      "model_module": "@jupyter-widgets/controls",
      "model_module_version": "1.5.0",
      "model_name": "HBoxModel",
      "state": {
       "_dom_classes": [],
       "_model_module": "@jupyter-widgets/controls",
       "_model_module_version": "1.5.0",
       "_model_name": "HBoxModel",
       "_view_count": null,
       "_view_module": "@jupyter-widgets/controls",
       "_view_module_version": "1.5.0",
       "_view_name": "HBoxView",
       "box_style": "",
       "children": [
        "IPY_MODEL_d38c9bd70d6c4e1380321663899d52d9",
        "IPY_MODEL_0e167c03adda4d7f87d9d9c16eab5b8f"
       ],
       "layout": "IPY_MODEL_d50f040e871a4ce7a5db8b63620ff9b6"
      }
     },
     "d38c9bd70d6c4e1380321663899d52d9": {
      "model_module": "@jupyter-widgets/controls",
      "model_module_version": "1.5.0",
      "model_name": "FloatProgressModel",
      "state": {
       "_dom_classes": [],
       "_model_module": "@jupyter-widgets/controls",
       "_model_module_version": "1.5.0",
       "_model_name": "FloatProgressModel",
       "_view_count": null,
       "_view_module": "@jupyter-widgets/controls",
       "_view_module_version": "1.5.0",
       "_view_name": "ProgressView",
       "bar_style": "success",
       "description": "100%",
       "description_tooltip": null,
       "layout": "IPY_MODEL_a5534748d08048cda39d7b5c63bbff39",
       "max": 46827520,
       "min": 0,
       "orientation": "horizontal",
       "style": "IPY_MODEL_429a75982ddb4fdd884ca0ef19375f0d",
       "value": 46827520
      }
     },
     "d50f040e871a4ce7a5db8b63620ff9b6": {
      "model_module": "@jupyter-widgets/base",
      "model_module_version": "1.2.0",
      "model_name": "LayoutModel",
      "state": {
       "_model_module": "@jupyter-widgets/base",
       "_model_module_version": "1.2.0",
       "_model_name": "LayoutModel",
       "_view_count": null,
       "_view_module": "@jupyter-widgets/base",
       "_view_module_version": "1.2.0",
       "_view_name": "LayoutView",
       "align_content": null,
       "align_items": null,
       "align_self": null,
       "border": null,
       "bottom": null,
       "display": null,
       "flex": null,
       "flex_flow": null,
       "grid_area": null,
       "grid_auto_columns": null,
       "grid_auto_flow": null,
       "grid_auto_rows": null,
       "grid_column": null,
       "grid_gap": null,
       "grid_row": null,
       "grid_template_areas": null,
       "grid_template_columns": null,
       "grid_template_rows": null,
       "height": null,
       "justify_content": null,
       "justify_items": null,
       "left": null,
       "margin": null,
       "max_height": null,
       "max_width": null,
       "min_height": null,
       "min_width": null,
       "object_fit": null,
       "object_position": null,
       "order": null,
       "overflow": null,
       "overflow_x": null,
       "overflow_y": null,
       "padding": null,
       "right": null,
       "top": null,
       "visibility": null,
       "width": null
      }
     }
    },
    "version_major": 2,
    "version_minor": 0
   }
  }
 },
 "nbformat": 4,
 "nbformat_minor": 4
}
